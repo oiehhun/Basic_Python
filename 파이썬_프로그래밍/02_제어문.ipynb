{
 "cells": [
  {
   "cell_type": "markdown",
   "id": "5240c871",
   "metadata": {},
   "source": [
    "# 제어문"
   ]
  },
  {
   "cell_type": "markdown",
   "id": "41dd8c7e",
   "metadata": {},
   "source": [
    "## 선택문"
   ]
  },
  {
   "cell_type": "code",
   "execution_count": 1,
   "id": "24ab43ba",
   "metadata": {},
   "outputs": [],
   "source": [
    "total = 90"
   ]
  },
  {
   "cell_type": "code",
   "execution_count": 2,
   "id": "9d15af10",
   "metadata": {},
   "outputs": [
    {
     "data": {
      "text/plain": [
       "False"
      ]
     },
     "execution_count": 2,
     "metadata": {},
     "output_type": "execute_result"
    }
   ],
   "source": [
    "total >= 100"
   ]
  },
  {
   "cell_type": "markdown",
   "id": "b75518c4",
   "metadata": {},
   "source": [
    "------"
   ]
  },
  {
   "cell_type": "markdown",
   "id": "e36a8089",
   "metadata": {},
   "source": [
    "### if"
   ]
  },
  {
   "cell_type": "code",
   "execution_count": 2,
   "id": "7ec763a9",
   "metadata": {
    "scrolled": true
   },
   "outputs": [
    {
     "name": "stdout",
     "output_type": "stream",
     "text": [
      "회원이십니까?(y/n) y\n",
      "어서 오십시오.\n"
     ]
    }
   ],
   "source": [
    "member = input('회원이십니까?(y/n) ')\n",
    "if member == 'y':\n",
    "    print('어서 오십시오.')"
   ]
  },
  {
   "cell_type": "markdown",
   "id": "c1051279",
   "metadata": {},
   "source": [
    "------"
   ]
  },
  {
   "cell_type": "markdown",
   "id": "3ec6142f",
   "metadata": {},
   "source": [
    "### if ~else"
   ]
  },
  {
   "cell_type": "code",
   "execution_count": 3,
   "id": "bdce7f8c",
   "metadata": {
    "scrolled": true
   },
   "outputs": [
    {
     "name": "stdout",
     "output_type": "stream",
     "text": [
      "회원이십니까?(y/n) n\n",
      "회원가입을 해주세요.\n"
     ]
    }
   ],
   "source": [
    "member = input('회원이십니까?(y/n) ')\n",
    "if member == 'y':\n",
    "    print('어서 오십시오.')\n",
    "else:\n",
    "    print('회원가입을 해주세요.')"
   ]
  },
  {
   "cell_type": "markdown",
   "id": "2bdf6b87",
   "metadata": {},
   "source": [
    "------"
   ]
  },
  {
   "cell_type": "markdown",
   "id": "0744a8a9",
   "metadata": {},
   "source": [
    "### if ~elif"
   ]
  },
  {
   "cell_type": "code",
   "execution_count": 5,
   "id": "cfb71cb8",
   "metadata": {},
   "outputs": [],
   "source": [
    "age = input('나이 입력: ')"
   ]
  },
  {
   "cell_type": "code",
   "execution_count": 6,
   "id": "c7559903",
   "metadata": {},
   "outputs": [
    {
     "data": {
      "text/plain": [
       "'20'"
      ]
     },
     "execution_count": 6,
     "metadata": {},
     "output_type": "execute_result"
    }
   ],
   "source": [
    "age"
   ]
  },
  {
   "cell_type": "markdown",
   "id": "3c5312a4",
   "metadata": {},
   "source": [
    "- 문자열을 숫자 타입으로 바꾸고 싶으면"
   ]
  },
  {
   "cell_type": "code",
   "execution_count": 7,
   "id": "79a39589",
   "metadata": {},
   "outputs": [],
   "source": [
    "age = int(input('나이 입력: '))"
   ]
  },
  {
   "cell_type": "code",
   "execution_count": 8,
   "id": "50e1ac3f",
   "metadata": {},
   "outputs": [
    {
     "data": {
      "text/plain": [
       "int"
      ]
     },
     "execution_count": 8,
     "metadata": {},
     "output_type": "execute_result"
    }
   ],
   "source": [
    "type(age)"
   ]
  },
  {
   "cell_type": "code",
   "execution_count": 9,
   "id": "6fa176d6",
   "metadata": {},
   "outputs": [
    {
     "name": "stdout",
     "output_type": "stream",
     "text": [
      "입장료는 20000 원\n"
     ]
    }
   ],
   "source": [
    "age = int(input('나이 입력: '))\n",
    "price = 20000\n",
    "\n",
    "if 1 <= age < 6:\n",
    "    print('입장료는 무료')\n",
    "elif 6 <= age <60:\n",
    "    print('입장료는', price, '원')\n",
    "elif age >= 60:\n",
    "    print('입장료는', price * 0.5, '원')"
   ]
  },
  {
   "cell_type": "code",
   "execution_count": 10,
   "id": "8a07a840",
   "metadata": {},
   "outputs": [
    {
     "name": "stdout",
     "output_type": "stream",
     "text": [
      "입장료는 무료\n"
     ]
    }
   ],
   "source": [
    "age = int(input('나이 입력: '))\n",
    "price = 20000\n",
    "\n",
    "if 1 <= age < 6:\n",
    "    print('입장료는 무료')\n",
    "elif 6 <= age <60:\n",
    "    print('입장료는', price, '원')\n",
    "elif age >= 60:\n",
    "    print('입장료는', price * 0.5, '원')"
   ]
  },
  {
   "cell_type": "code",
   "execution_count": 1,
   "id": "26b9231c",
   "metadata": {},
   "outputs": [
    {
     "name": "stdout",
     "output_type": "stream",
     "text": [
      "나이 입력: 70\n",
      "입장료는 10000 원\n"
     ]
    }
   ],
   "source": [
    "age = int(input('나이 입력: '))\n",
    "price = 20000\n",
    "\n",
    "if 1 <= age < 6:\n",
    "    print('입장료는 무료')\n",
    "elif 6 <= age <60:\n",
    "    print('입장료는', price, '원')\n",
    "elif age >= 60:\n",
    "    print('입장료는', int(price * 0.5), '원')"
   ]
  },
  {
   "cell_type": "markdown",
   "id": "171a05fb",
   "metadata": {},
   "source": [
    "------"
   ]
  },
  {
   "cell_type": "markdown",
   "id": "7d84526f",
   "metadata": {},
   "source": [
    "### if ~elif ~else"
   ]
  },
  {
   "cell_type": "code",
   "execution_count": 2,
   "id": "cb5a91ab",
   "metadata": {},
   "outputs": [
    {
     "name": "stdout",
     "output_type": "stream",
     "text": [
      "나이 입력: 0\n",
      "1살 이상의 나이를 입력해 주세요.\n"
     ]
    }
   ],
   "source": [
    "age = int(input('나이 입력: '))\n",
    "price = 20000\n",
    "\n",
    "if 1 <= age < 6:\n",
    "    print('입장료는 무료')\n",
    "elif 6 <= age <60:\n",
    "    print('입장료는', price, '원')\n",
    "elif age >= 60:\n",
    "    print('입장료는', int(price * 0.5), '원')\n",
    "else:\n",
    "    print('1살 이상의 나이를 입력해 주세요.')"
   ]
  },
  {
   "cell_type": "markdown",
   "id": "bd7ec4c2",
   "metadata": {},
   "source": [
    "------"
   ]
  },
  {
   "cell_type": "markdown",
   "id": "d7b6f9ce",
   "metadata": {},
   "source": [
    "### 중첩 선택문"
   ]
  },
  {
   "cell_type": "code",
   "execution_count": 4,
   "id": "dd4e387a",
   "metadata": {},
   "outputs": [
    {
     "name": "stdout",
     "output_type": "stream",
     "text": [
      "아이디: admin\n",
      "비밀번호: 1234\n",
      "로그인 성공\n"
     ]
    }
   ],
   "source": [
    "id1 = input('아이디: ')\n",
    "pwd = input('비밀번호: ')\n",
    "if id1 == 'admin':\n",
    "    if pwd == '1234':\n",
    "        print('로그인 성공')\n",
    "    else:\n",
    "        print('패스워드 오류')\n",
    "else:\n",
    "    print('아이디 오류')"
   ]
  },
  {
   "cell_type": "code",
   "execution_count": 5,
   "id": "ee515a49",
   "metadata": {},
   "outputs": [
    {
     "name": "stdout",
     "output_type": "stream",
     "text": [
      "아이디: test\n",
      "비밀번호: 1234\n",
      "아이디 오류\n"
     ]
    }
   ],
   "source": [
    "id1 = input('아이디: ')\n",
    "pwd = input('비밀번호: ')\n",
    "if id1 == 'admin':\n",
    "    if pwd == '1234':\n",
    "        print('로그인 성공')\n",
    "    else:\n",
    "        print('패스워드 오류')\n",
    "else:\n",
    "    print('아이디 오류')"
   ]
  },
  {
   "cell_type": "code",
   "execution_count": 6,
   "id": "9883020d",
   "metadata": {},
   "outputs": [
    {
     "name": "stdout",
     "output_type": "stream",
     "text": [
      "아이디: admin\n",
      "비밀번호: 0000\n",
      "패스워드 오류\n"
     ]
    }
   ],
   "source": [
    "id1 = input('아이디: ')\n",
    "pwd = input('비밀번호: ')\n",
    "if id1 == 'admin':\n",
    "    if pwd == '1234':\n",
    "        print('로그인 성공')\n",
    "    else:\n",
    "        print('패스워드 오류')\n",
    "else:\n",
    "    print('아이디 오류')"
   ]
  },
  {
   "cell_type": "markdown",
   "id": "93212af5",
   "metadata": {},
   "source": [
    "------"
   ]
  },
  {
   "cell_type": "markdown",
   "id": "df7a0c64",
   "metadata": {},
   "source": [
    "## 반복문과 기타 제어문"
   ]
  },
  {
   "cell_type": "markdown",
   "id": "a5fc82f7",
   "metadata": {},
   "source": [
    "### for"
   ]
  },
  {
   "cell_type": "code",
   "execution_count": 9,
   "id": "d514c0da",
   "metadata": {},
   "outputs": [
    {
     "data": {
      "text/plain": [
       "range(0, 10)"
      ]
     },
     "execution_count": 9,
     "metadata": {},
     "output_type": "execute_result"
    }
   ],
   "source": [
    "range(0, 10, 2) #0부터 2만큼 증가하며 9까지"
   ]
  },
  {
   "cell_type": "code",
   "execution_count": 10,
   "id": "b01176cb",
   "metadata": {},
   "outputs": [
    {
     "name": "stdout",
     "output_type": "stream",
     "text": [
      "*\n",
      "**\n",
      "***\n",
      "****\n",
      "*****\n"
     ]
    }
   ],
   "source": [
    "for i in range(5):\n",
    "    print('*' * (i + 1))"
   ]
  },
  {
   "cell_type": "code",
   "execution_count": 12,
   "id": "5543b05c",
   "metadata": {},
   "outputs": [
    {
     "name": "stdout",
     "output_type": "stream",
     "text": [
      "2 4 6 8 10 "
     ]
    }
   ],
   "source": [
    "odd = [1, 3, 5, 7, 9]\n",
    "for i in odd:\n",
    "    print(i + 1, end = ' ') # end = ' ' : print의 파라미터로 한줄로 표현하고 싶을 때"
   ]
  },
  {
   "cell_type": "code",
   "execution_count": 13,
   "id": "9ff80266",
   "metadata": {
    "scrolled": true
   },
   "outputs": [
    {
     "name": "stdout",
     "output_type": "stream",
     "text": [
      "P y t h o n "
     ]
    }
   ],
   "source": [
    "for i in \"Python\":\n",
    "    print(i, end = ' ')"
   ]
  },
  {
   "cell_type": "markdown",
   "id": "99aae79a",
   "metadata": {},
   "source": [
    "------"
   ]
  },
  {
   "cell_type": "markdown",
   "id": "17983406",
   "metadata": {},
   "source": [
    "### while"
   ]
  },
  {
   "cell_type": "code",
   "execution_count": 14,
   "id": "41268915",
   "metadata": {},
   "outputs": [
    {
     "name": "stdout",
     "output_type": "stream",
     "text": [
      "서당개 1 년\n",
      "서당개 2 년\n",
      "서당개 3 년\n",
      "풍월을 읇습니다.\n"
     ]
    }
   ],
   "source": [
    "year = 1\n",
    "while year <= 3:\n",
    "    print('서당개', year, '년')\n",
    "    year += 1\n",
    "    \n",
    "print('풍월을 읇습니다.')"
   ]
  },
  {
   "cell_type": "code",
   "execution_count": null,
   "id": "5b7fbbdf",
   "metadata": {},
   "outputs": [],
   "source": [
    "result = None\n",
    "while result != 'y':\n",
    "    print('와우!')\n",
    "    result = input('계속하려면 입력(종료:y): ')\n",
    "print('종료')"
   ]
  },
  {
   "cell_type": "code",
   "execution_count": 17,
   "id": "ea4f4fcb",
   "metadata": {},
   "outputs": [
    {
     "name": "stdout",
     "output_type": "stream",
     "text": [
      "단 입력: 1\n",
      "1 x 1 = 1\n",
      "1 x 2 = 2\n",
      "1 x 3 = 3\n",
      "1 x 4 = 4\n",
      "1 x 5 = 5\n",
      "1 x 6 = 6\n",
      "1 x 7 = 7\n",
      "1 x 8 = 8\n",
      "1 x 9 = 9\n"
     ]
    }
   ],
   "source": [
    "num = int(input('단 입력: '))\n",
    "for i in range(1, 10):\n",
    "    print('%d x %d = %d' % (num, i, num * i)) # %d : 정수, %f : 실수, %s : 문자열"
   ]
  },
  {
   "cell_type": "code",
   "execution_count": 1,
   "id": "1528b2e4",
   "metadata": {},
   "outputs": [
    {
     "name": "stdout",
     "output_type": "stream",
     "text": [
      "단 입력: 7\n",
      "7 x 1 = 7\n",
      "7 x 2 = 14\n",
      "7 x 3 = 21\n",
      "7 x 4 = 28\n",
      "7 x 5 = 35\n",
      "7 x 6 = 42\n",
      "7 x 7 = 49\n",
      "7 x 8 = 56\n",
      "7 x 9 = 63\n"
     ]
    }
   ],
   "source": [
    "num = int(input('단 입력: '))\n",
    "for i in range(1, 10):\n",
    "    print('%d x %d = %d' % (num, i, num * i))"
   ]
  },
  {
   "cell_type": "code",
   "execution_count": 1,
   "id": "3ddc78b3",
   "metadata": {},
   "outputs": [
    {
     "name": "stdout",
     "output_type": "stream",
     "text": [
      "단 입력: 7\n",
      "7 x 1 = 7\n",
      "7 x 2 = 14\n",
      "7 x 3 = 21\n",
      "7 x 4 = 28\n",
      "7 x 5 = 35\n",
      "7 x 6 = 42\n",
      "7 x 7 = 49\n",
      "7 x 8 = 56\n",
      "7 x 9 = 63\n"
     ]
    }
   ],
   "source": [
    "num = int(input('단 입력: '))\n",
    "i = 1\n",
    "while i <= 9:\n",
    "    print('%d x %d = %d' % (num, i, num * i))\n",
    "    i += 1"
   ]
  },
  {
   "cell_type": "markdown",
   "id": "ad83675f",
   "metadata": {},
   "source": [
    "------"
   ]
  },
  {
   "cell_type": "markdown",
   "id": "fc939a7f",
   "metadata": {},
   "source": [
    "### 기타 제어문(break, continue, pass)"
   ]
  },
  {
   "cell_type": "code",
   "execution_count": 2,
   "id": "90af0c97",
   "metadata": {},
   "outputs": [
    {
     "name": "stdout",
     "output_type": "stream",
     "text": [
      "번호 입력(종료 0): 1\n",
      "while 무한루프로 반복중\n",
      "번호 입력(종료 0): 2\n",
      "while 무한루프로 반복중\n",
      "번호 입력(종료 0): 3\n",
      "while 무한루프로 반복중\n",
      "번호 입력(종료 0): 0\n"
     ]
    }
   ],
   "source": [
    "while True:\n",
    "    num = int(input('번호 입력(종료 0): '))\n",
    "    if num == 0:\n",
    "        break\n",
    "    print('while 무한루프로 반복중')"
   ]
  },
  {
   "cell_type": "code",
   "execution_count": 3,
   "id": "c222b9e6",
   "metadata": {},
   "outputs": [
    {
     "name": "stdout",
     "output_type": "stream",
     "text": [
      "7의 배수:  7\n",
      "7의 배수:  14\n",
      "7의 배수:  21\n",
      "7의 배수:  28\n"
     ]
    }
   ],
   "source": [
    "for i in range(1, 31):\n",
    "    if i % 7 == 0:\n",
    "        print('7의 배수: ', i)"
   ]
  },
  {
   "cell_type": "code",
   "execution_count": 4,
   "id": "93695e84",
   "metadata": {},
   "outputs": [
    {
     "name": "stdout",
     "output_type": "stream",
     "text": [
      "7의 배수:  7\n",
      "7의 배수:  14\n",
      "7의 배수:  21\n",
      "7의 배수:  28\n"
     ]
    }
   ],
   "source": [
    "for i in range(1, 31):\n",
    "    if i % 7 != 0:\n",
    "        continue\n",
    "\n",
    "    print('7의 배수: ', i)"
   ]
  },
  {
   "cell_type": "code",
   "execution_count": 5,
   "id": "ee39d7a4",
   "metadata": {},
   "outputs": [],
   "source": [
    "for i in range(10):\n",
    "    pass"
   ]
  },
  {
   "cell_type": "markdown",
   "id": "c02f61fb",
   "metadata": {},
   "source": [
    "------"
   ]
  },
  {
   "cell_type": "markdown",
   "id": "98af058e",
   "metadata": {},
   "source": [
    "### 중첩 반복문"
   ]
  },
  {
   "cell_type": "code",
   "execution_count": 22,
   "id": "bb0513d9",
   "metadata": {},
   "outputs": [
    {
     "name": "stdout",
     "output_type": "stream",
     "text": [
      "1 x 1 = 1\n",
      "1 x 2 = 2\n",
      "1 x 3 = 3\n",
      "1 x 4 = 4\n",
      "1 x 5 = 5\n",
      "1 x 6 = 6\n",
      "1 x 7 = 7\n",
      "1 x 8 = 8\n",
      "1 x 9 = 9\n",
      "2 x 1 = 2\n",
      "2 x 2 = 4\n",
      "2 x 3 = 6\n",
      "2 x 4 = 8\n",
      "2 x 5 = 10\n",
      "2 x 6 = 12\n",
      "2 x 7 = 14\n",
      "2 x 8 = 16\n",
      "2 x 9 = 18\n",
      "구구단 프로그램 종료\n"
     ]
    }
   ],
   "source": [
    "while True:\n",
    "    num = int(input('단 입력(종료:0) '))\n",
    "    if num == 0:\n",
    "        break\n",
    "    \n",
    "    i = 1\n",
    "    while i <= 9:\n",
    "        print('%d x %d = %d' % (num, i, num * i))\n",
    "        i += 1\n",
    "\n",
    "print('구구단 프로그램 종료')"
   ]
  },
  {
   "cell_type": "code",
   "execution_count": 7,
   "id": "f2e98b55",
   "metadata": {},
   "outputs": [],
   "source": [
    "alpha = {'A': '1!',\n",
    "        'B': '2@',\n",
    "        'C': '3#',\n",
    "        'D': '4$',\n",
    "        'E': '5%'}"
   ]
  },
  {
   "cell_type": "code",
   "execution_count": 9,
   "id": "21fe1717",
   "metadata": {},
   "outputs": [
    {
     "name": "stdout",
     "output_type": "stream",
     "text": [
      "대문자 A~E 단어 입력(종료:0) AABBC\n",
      "단어: AABBC , 암호코드 : 1!1!2@2@3# \n",
      "\n",
      "대문자 A~E 단어 입력(종료:0) EDCBA\n",
      "단어: EDCBA , 암호코드 : 5%4$3#2@1! \n",
      "\n",
      "대문자 A~E 단어 입력(종료:0) 0\n",
      "암호코드 변환 프로그램 종료\n"
     ]
    }
   ],
   "source": [
    "while True:\n",
    "    code = ''\n",
    "    word = input('대문자 A~E 단어 입력(종료:0) ')\n",
    "    if word == '0':\n",
    "        break\n",
    "    for ch in word:\n",
    "        code += alpha[ch]\n",
    "    print('단어:', word, ', 암호코드 :', code, '\\n')\n",
    "print('암호코드 변환 프로그램 종료')"
   ]
  },
  {
   "cell_type": "code",
   "execution_count": 10,
   "id": "f11ff66f",
   "metadata": {},
   "outputs": [
    {
     "name": "stdout",
     "output_type": "stream",
     "text": [
      "시작단 입력: 2\n",
      "종료단 입력: 5\n",
      "2 x 1 = 2\n",
      "2 x 2 = 4\n",
      "2 x 3 = 6\n",
      "2 x 4 = 8\n",
      "2 x 5 = 10\n",
      "2 x 6 = 12\n",
      "2 x 7 = 14\n",
      "2 x 8 = 16\n",
      "2 x 9 = 18\n",
      "3 x 1 = 3\n",
      "3 x 2 = 6\n",
      "3 x 3 = 9\n",
      "3 x 4 = 12\n",
      "3 x 5 = 15\n",
      "3 x 6 = 18\n",
      "3 x 7 = 21\n",
      "3 x 8 = 24\n",
      "3 x 9 = 27\n",
      "4 x 1 = 4\n",
      "4 x 2 = 8\n",
      "4 x 3 = 12\n",
      "4 x 4 = 16\n",
      "4 x 5 = 20\n",
      "4 x 6 = 24\n",
      "4 x 7 = 28\n",
      "4 x 8 = 32\n",
      "4 x 9 = 36\n",
      "5 x 1 = 5\n",
      "5 x 2 = 10\n",
      "5 x 3 = 15\n",
      "5 x 4 = 20\n",
      "5 x 5 = 25\n",
      "5 x 6 = 30\n",
      "5 x 7 = 35\n",
      "5 x 8 = 40\n",
      "5 x 9 = 45\n",
      "구구단 프로그램 종료\n"
     ]
    }
   ],
   "source": [
    "start = int(input('시작단 입력: '))\n",
    "end = int(input('종료단 입력: '))\n",
    "\n",
    "for num in range(start, end + 1):\n",
    "    i = 1\n",
    "    while i <= 9:\n",
    "        print('%d x %d = %d' % (num, i, num * i))\n",
    "        i += 1\n",
    "        \n",
    "print('구구단 프로그램 종료')"
   ]
  },
  {
   "cell_type": "code",
   "execution_count": 11,
   "id": "9d795a48",
   "metadata": {},
   "outputs": [
    {
     "name": "stdout",
     "output_type": "stream",
     "text": [
      "1 참치+오이+단무지\n",
      "2 참치+계란+단무지\n",
      "3 불고기+오이+단무지\n",
      "4 불고기+계란+단무지\n",
      "5 치즈+오이+단무지\n",
      "6 치즈+계란+단무지\n"
     ]
    }
   ],
   "source": [
    "main = ['참치', '불고기', '치즈']\n",
    "side = ['오이', '계란']\n",
    "i = 1\n",
    "for m in main:\n",
    "    for s in side:\n",
    "        print(i, m + '+' + s + '+단무지')\n",
    "        i += 1"
   ]
  },
  {
   "cell_type": "markdown",
   "id": "ee6f5fdf",
   "metadata": {},
   "source": [
    "------"
   ]
  },
  {
   "cell_type": "markdown",
   "id": "24d5d1b4",
   "metadata": {},
   "source": [
    "## 함수"
   ]
  },
  {
   "cell_type": "markdown",
   "id": "2c427e4d",
   "metadata": {},
   "source": [
    "### 내장 함수"
   ]
  },
  {
   "cell_type": "markdown",
   "id": "86083077",
   "metadata": {},
   "source": [
    "1. 타입 변환 함수 : int( ), float( ), str( )\n",
    "2. 수학 함수\n",
    "3. Random Numbers"
   ]
  },
  {
   "cell_type": "code",
   "execution_count": 12,
   "id": "7de4cc5f",
   "metadata": {},
   "outputs": [
    {
     "data": {
      "text/plain": [
       "int"
      ]
     },
     "execution_count": 12,
     "metadata": {},
     "output_type": "execute_result"
    }
   ],
   "source": [
    "type(10)"
   ]
  },
  {
   "cell_type": "code",
   "execution_count": 13,
   "id": "a3dbcd66",
   "metadata": {},
   "outputs": [
    {
     "data": {
      "text/plain": [
       "'w'"
      ]
     },
     "execution_count": 13,
     "metadata": {},
     "output_type": "execute_result"
    }
   ],
   "source": [
    "max('Hello world') #문자열에서 max는 a-z 중에 제일 마지막"
   ]
  },
  {
   "cell_type": "code",
   "execution_count": 14,
   "id": "806c8f4c",
   "metadata": {},
   "outputs": [
    {
     "data": {
      "text/plain": [
       "' '"
      ]
     },
     "execution_count": 14,
     "metadata": {},
     "output_type": "execute_result"
    }
   ],
   "source": [
    "min('Hello world')"
   ]
  },
  {
   "cell_type": "code",
   "execution_count": 15,
   "id": "24b79a17",
   "metadata": {},
   "outputs": [
    {
     "data": {
      "text/plain": [
       "11"
      ]
     },
     "execution_count": 15,
     "metadata": {},
     "output_type": "execute_result"
    }
   ],
   "source": [
    "len('Hello world')"
   ]
  },
  {
   "cell_type": "code",
   "execution_count": 16,
   "id": "9f3df2de",
   "metadata": {},
   "outputs": [
    {
     "data": {
      "text/plain": [
       "32"
      ]
     },
     "execution_count": 16,
     "metadata": {},
     "output_type": "execute_result"
    }
   ],
   "source": [
    "int('32') # int : 정수"
   ]
  },
  {
   "cell_type": "code",
   "execution_count": 17,
   "id": "b2aaa37e",
   "metadata": {},
   "outputs": [
    {
     "data": {
      "text/plain": [
       "3"
      ]
     },
     "execution_count": 17,
     "metadata": {},
     "output_type": "execute_result"
    }
   ],
   "source": [
    "int(3.666) # int는 소수점 버림"
   ]
  },
  {
   "cell_type": "code",
   "execution_count": 18,
   "id": "08a87134",
   "metadata": {},
   "outputs": [
    {
     "data": {
      "text/plain": [
       "-3"
      ]
     },
     "execution_count": 18,
     "metadata": {},
     "output_type": "execute_result"
    }
   ],
   "source": [
    "int(-3.3)"
   ]
  },
  {
   "cell_type": "code",
   "execution_count": 19,
   "id": "a9f11130",
   "metadata": {},
   "outputs": [
    {
     "data": {
      "text/plain": [
       "32.0"
      ]
     },
     "execution_count": 19,
     "metadata": {},
     "output_type": "execute_result"
    }
   ],
   "source": [
    "float(32) # float : 실수"
   ]
  },
  {
   "cell_type": "code",
   "execution_count": 20,
   "id": "87028af0",
   "metadata": {},
   "outputs": [
    {
     "data": {
      "text/plain": [
       "3.5"
      ]
     },
     "execution_count": 20,
     "metadata": {},
     "output_type": "execute_result"
    }
   ],
   "source": [
    "float('3.5')"
   ]
  },
  {
   "cell_type": "code",
   "execution_count": 21,
   "id": "ac2305cc",
   "metadata": {},
   "outputs": [
    {
     "data": {
      "text/plain": [
       "'32'"
      ]
     },
     "execution_count": 21,
     "metadata": {},
     "output_type": "execute_result"
    }
   ],
   "source": [
    "str(32) # str : 문자"
   ]
  },
  {
   "cell_type": "code",
   "execution_count": 26,
   "id": "a8dfbf23",
   "metadata": {},
   "outputs": [
    {
     "data": {
      "text/plain": [
       "6361.725123519331"
      ]
     },
     "execution_count": 26,
     "metadata": {},
     "output_type": "execute_result"
    }
   ],
   "source": [
    "import math\n",
    "\n",
    "r = 45\n",
    "radians = r * r * math.pi\n",
    "radians"
   ]
  },
  {
   "cell_type": "code",
   "execution_count": 30,
   "id": "10b0eaba",
   "metadata": {},
   "outputs": [
    {
     "name": "stdout",
     "output_type": "stream",
     "text": [
      "0.9837811674837543\n",
      "0.9624458452070928\n",
      "0.10277908470965236\n",
      "0.7001579107146296\n",
      "0.658227951706101\n",
      "0.9219202604812408\n",
      "0.05790839188163566\n",
      "0.02885490440158356\n",
      "0.2304961245526641\n",
      "0.18405652054283372\n"
     ]
    }
   ],
   "source": [
    "import random\n",
    "\n",
    "for i in range(10):\n",
    "    x = random.random() # 0.0 ~ 1.0 사이의 실수\n",
    "    print(x)"
   ]
  },
  {
   "cell_type": "code",
   "execution_count": 32,
   "id": "ca591468",
   "metadata": {},
   "outputs": [
    {
     "data": {
      "text/plain": [
       "6"
      ]
     },
     "execution_count": 32,
     "metadata": {},
     "output_type": "execute_result"
    }
   ],
   "source": [
    "random.randint(5, 10) # 범위 사이에 정수 난수 생성"
   ]
  },
  {
   "cell_type": "code",
   "execution_count": 34,
   "id": "8517a69e",
   "metadata": {},
   "outputs": [
    {
     "data": {
      "text/plain": [
       "5"
      ]
     },
     "execution_count": 34,
     "metadata": {},
     "output_type": "execute_result"
    }
   ],
   "source": [
    "t = [1, 2, 3, 4, 5]\n",
    "random.choice(t) # 리스트에서 랜덤으로 하나 선택"
   ]
  },
  {
   "cell_type": "markdown",
   "id": "1b581d42",
   "metadata": {},
   "source": [
    "------"
   ]
  },
  {
   "cell_type": "markdown",
   "id": "68e3e640",
   "metadata": {},
   "source": [
    "### def (사용자 정의 함수)"
   ]
  },
  {
   "cell_type": "code",
   "execution_count": 35,
   "id": "7fff5a36",
   "metadata": {},
   "outputs": [],
   "source": [
    "def print_lyrics():\n",
    "    print(\"I'm okay.\")\n",
    "    print('I slepp all night.')"
   ]
  },
  {
   "cell_type": "code",
   "execution_count": 36,
   "id": "47541068",
   "metadata": {},
   "outputs": [
    {
     "name": "stdout",
     "output_type": "stream",
     "text": [
      "I'm okay.\n",
      "I slepp all night.\n"
     ]
    }
   ],
   "source": [
    "print_lyrics()"
   ]
  },
  {
   "cell_type": "code",
   "execution_count": 37,
   "id": "fbeabab2",
   "metadata": {},
   "outputs": [],
   "source": [
    "def cylinder_volume(height, radius = 5):\n",
    "    pi = 3.14159\n",
    "    return height * pi * radius ** 2"
   ]
  },
  {
   "cell_type": "code",
   "execution_count": 38,
   "id": "29c728f4",
   "metadata": {},
   "outputs": [
    {
     "data": {
      "text/plain": [
       "282.7431"
      ]
     },
     "execution_count": 38,
     "metadata": {},
     "output_type": "execute_result"
    }
   ],
   "source": [
    "cylinder_volume(10, 3)"
   ]
  },
  {
   "cell_type": "code",
   "execution_count": 39,
   "id": "b5c4734b",
   "metadata": {},
   "outputs": [
    {
     "data": {
      "text/plain": [
       "1570.795"
      ]
     },
     "execution_count": 39,
     "metadata": {},
     "output_type": "execute_result"
    }
   ],
   "source": [
    "cylinder_volume(20)"
   ]
  },
  {
   "cell_type": "code",
   "execution_count": 40,
   "id": "1f0d2750",
   "metadata": {},
   "outputs": [],
   "source": [
    "def max1(num1, num2):\n",
    "    if num1 > num2:\n",
    "        return num1\n",
    "    else:\n",
    "        return num2"
   ]
  },
  {
   "cell_type": "code",
   "execution_count": 41,
   "id": "ee632c9c",
   "metadata": {},
   "outputs": [
    {
     "name": "stdout",
     "output_type": "stream",
     "text": [
      "1st: 7\n",
      "2nd: 10\n",
      "큰수:  10\n"
     ]
    }
   ],
   "source": [
    "a = int(input('1st: '))\n",
    "b = int(input('2nd: '))\n",
    "print('큰수: ', max1(a, b))"
   ]
  },
  {
   "cell_type": "code",
   "execution_count": 64,
   "id": "c91ecbf3",
   "metadata": {},
   "outputs": [],
   "source": [
    "def game(num):\n",
    "    a = num // 10\n",
    "    b = num % 10\n",
    "    if a == 3 or a == 6 or a == 9:\n",
    "        return 'clap'\n",
    "    elif b == 3 or b == 6 or b == 9:\n",
    "        return 'clap'\n",
    "    else:\n",
    "        return 'next number'"
   ]
  },
  {
   "cell_type": "code",
   "execution_count": 65,
   "id": "856bcff7",
   "metadata": {},
   "outputs": [
    {
     "name": "stdout",
     "output_type": "stream",
     "text": [
      "number: 300\n",
      "next number\n"
     ]
    }
   ],
   "source": [
    "num = int(input('number: '))\n",
    "print(game(num))"
   ]
  },
  {
   "cell_type": "code",
   "execution_count": 66,
   "id": "2e5f5175",
   "metadata": {},
   "outputs": [],
   "source": [
    "def game369(num):\n",
    "    crap = False\n",
    "    for i in str(num):\n",
    "        if i in ['3', '6', '9']:\n",
    "            crap = True\n",
    "    if crap == True:\n",
    "        return 'clap'\n",
    "    else:\n",
    "        return 'next number'"
   ]
  },
  {
   "cell_type": "code",
   "execution_count": 67,
   "id": "a684ec83",
   "metadata": {},
   "outputs": [
    {
     "name": "stdout",
     "output_type": "stream",
     "text": [
      "number: 300\n",
      "clap\n"
     ]
    }
   ],
   "source": [
    "num = int(input('number: '))\n",
    "print(game369(num))"
   ]
  },
  {
   "cell_type": "code",
   "execution_count": 68,
   "id": "83441d5e",
   "metadata": {},
   "outputs": [],
   "source": [
    "def game369(num):\n",
    "    for i in str(num):\n",
    "        if i in ['3', '6', '9']:\n",
    "            return 'clap'\n",
    "            break\n",
    "    return 'next number'"
   ]
  },
  {
   "cell_type": "code",
   "execution_count": 69,
   "id": "fd6529cc",
   "metadata": {},
   "outputs": [
    {
     "name": "stdout",
     "output_type": "stream",
     "text": [
      "number: 300\n",
      "clap\n"
     ]
    }
   ],
   "source": [
    "num = int(input('number: '))\n",
    "print(game369(num))"
   ]
  },
  {
   "cell_type": "markdown",
   "id": "6f013d5e",
   "metadata": {},
   "source": [
    "------"
   ]
  },
  {
   "cell_type": "markdown",
   "id": "7dd26dc1",
   "metadata": {},
   "source": [
    "### lambda(람다 함수)"
   ]
  },
  {
   "cell_type": "code",
   "execution_count": 70,
   "id": "dd34037e",
   "metadata": {},
   "outputs": [],
   "source": [
    "def plus_five(x):\n",
    "    return x + 5"
   ]
  },
  {
   "cell_type": "code",
   "execution_count": 71,
   "id": "75ab6473",
   "metadata": {},
   "outputs": [
    {
     "data": {
      "text/plain": [
       "15"
      ]
     },
     "execution_count": 71,
     "metadata": {},
     "output_type": "execute_result"
    }
   ],
   "source": [
    "plus_five(10)"
   ]
  },
  {
   "cell_type": "code",
   "execution_count": 72,
   "id": "21927a4e",
   "metadata": {},
   "outputs": [
    {
     "data": {
      "text/plain": [
       "<function __main__.<lambda>(x)>"
      ]
     },
     "execution_count": 72,
     "metadata": {},
     "output_type": "execute_result"
    }
   ],
   "source": [
    "lambda x: x + 5"
   ]
  },
  {
   "cell_type": "code",
   "execution_count": 73,
   "id": "ac8e1b64",
   "metadata": {},
   "outputs": [
    {
     "data": {
      "text/plain": [
       "15"
      ]
     },
     "execution_count": 73,
     "metadata": {},
     "output_type": "execute_result"
    }
   ],
   "source": [
    "plus_five = lambda x: x + 5\n",
    "plus_five(10)"
   ]
  },
  {
   "cell_type": "code",
   "execution_count": 74,
   "id": "fb12e868",
   "metadata": {},
   "outputs": [
    {
     "data": {
      "text/plain": [
       "[15, 25, 35]"
      ]
     },
     "execution_count": 74,
     "metadata": {},
     "output_type": "execute_result"
    }
   ],
   "source": [
    "def plus_five(x):\n",
    "    return x + 5\n",
    "\n",
    "list(map(plus_five, [10, 20, 30])) #map() : 함수와 리스트를 매핑 시켜줌"
   ]
  },
  {
   "cell_type": "code",
   "execution_count": 75,
   "id": "371d6dee",
   "metadata": {},
   "outputs": [
    {
     "data": {
      "text/plain": [
       "[15, 25, 35]"
      ]
     },
     "execution_count": 75,
     "metadata": {},
     "output_type": "execute_result"
    }
   ],
   "source": [
    "list(map(lambda x: x + 5, [10, 20, 30]))"
   ]
  }
 ],
 "metadata": {
  "kernelspec": {
   "display_name": "Python 3",
   "language": "python",
   "name": "python3"
  },
  "language_info": {
   "codemirror_mode": {
    "name": "ipython",
    "version": 3
   },
   "file_extension": ".py",
   "mimetype": "text/x-python",
   "name": "python",
   "nbconvert_exporter": "python",
   "pygments_lexer": "ipython3",
   "version": "3.8.8"
  },
  "toc": {
   "base_numbering": 1,
   "nav_menu": {},
   "number_sections": true,
   "sideBar": true,
   "skip_h1_title": false,
   "title_cell": "Table of Contents",
   "title_sidebar": "Contents",
   "toc_cell": false,
   "toc_position": {
    "height": "calc(100% - 180px)",
    "left": "10px",
    "top": "150px",
    "width": "256px"
   },
   "toc_section_display": true,
   "toc_window_display": false
  },
  "vscode": {
   "interpreter": {
    "hash": "76bb3687f887ea2c789456677de17e5fe1c8191039e01573c5d28a46e47a4e8b"
   }
  }
 },
 "nbformat": 4,
 "nbformat_minor": 5
}
