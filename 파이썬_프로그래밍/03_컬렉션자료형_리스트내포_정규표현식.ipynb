{
 "cells": [
  {
   "cell_type": "markdown",
   "id": "319223dc",
   "metadata": {},
   "source": [
    "# 컬렉션 자료형"
   ]
  },
  {
   "cell_type": "markdown",
   "id": "8b4c669d",
   "metadata": {},
   "source": [
    "## 리스트 자료형"
   ]
  },
  {
   "cell_type": "code",
   "execution_count": 1,
   "id": "3bbb4dd8",
   "metadata": {},
   "outputs": [
    {
     "name": "stdout",
     "output_type": "stream",
     "text": [
      "num1: 10\n",
      "num2: 9\n",
      "num3: 8\n",
      "num4: 10\n",
      "hap 37\n"
     ]
    }
   ],
   "source": [
    "hap = 0\n",
    "a = int(input('num1: '))\n",
    "b = int(input('num2: '))\n",
    "c = int(input('num3: '))\n",
    "d = int(input('num4: '))\n",
    "\n",
    "hap = a + b + c + d\n",
    "\n",
    "print('hap', hap)"
   ]
  },
  {
   "cell_type": "code",
   "execution_count": 2,
   "id": "63f42dda",
   "metadata": {},
   "outputs": [
    {
     "name": "stdout",
     "output_type": "stream",
     "text": [
      "num1: 10\n",
      "num2: 9\n",
      "num3: 8\n",
      "num4: 10\n",
      "hap 37\n"
     ]
    }
   ],
   "source": [
    "a = [10, 10, 10, 10]\n",
    "a[0] = int(input('num1: '))\n",
    "a[1] = int(input('num2: '))\n",
    "a[2] = int(input('num3: '))\n",
    "a[3] = int(input('num4: '))\n",
    "\n",
    "hap = a[0] + a[1] + a[2] + a[3]\n",
    "\n",
    "print('hap', hap)"
   ]
  },
  {
   "cell_type": "code",
   "execution_count": 3,
   "id": "fd273476",
   "metadata": {},
   "outputs": [
    {
     "data": {
      "text/plain": [
       "[10, 9, 8, 10]"
      ]
     },
     "execution_count": 3,
     "metadata": {},
     "output_type": "execute_result"
    }
   ],
   "source": [
    "a"
   ]
  },
  {
   "cell_type": "code",
   "execution_count": 4,
   "id": "4eb6f133",
   "metadata": {},
   "outputs": [
    {
     "name": "stdout",
     "output_type": "stream",
     "text": [
      "[]\n"
     ]
    }
   ],
   "source": [
    "a = []\n",
    "print(a)"
   ]
  },
  {
   "cell_type": "code",
   "execution_count": 5,
   "id": "c7f9b21d",
   "metadata": {},
   "outputs": [
    {
     "name": "stdout",
     "output_type": "stream",
     "text": [
      "[]\n"
     ]
    }
   ],
   "source": [
    "b = list()\n",
    "print(b)"
   ]
  },
  {
   "cell_type": "code",
   "execution_count": 6,
   "id": "ff0bbc4a",
   "metadata": {},
   "outputs": [
    {
     "name": "stdout",
     "output_type": "stream",
     "text": [
      "[1, 2, 3, 4, 5]\n"
     ]
    }
   ],
   "source": [
    "a = [1, 2, 3, 4, 5]\n",
    "print(a)"
   ]
  },
  {
   "cell_type": "code",
   "execution_count": 7,
   "id": "0a90a952",
   "metadata": {},
   "outputs": [
    {
     "name": "stdout",
     "output_type": "stream",
     "text": [
      "['Hello', 'Python']\n"
     ]
    }
   ],
   "source": [
    "b = ['Hello', 'Python']\n",
    "print(b)"
   ]
  },
  {
   "cell_type": "code",
   "execution_count": 8,
   "id": "0aff1dc3",
   "metadata": {},
   "outputs": [
    {
     "name": "stdout",
     "output_type": "stream",
     "text": [
      "[1, 2, 'Hello', [10, 20]]\n"
     ]
    }
   ],
   "source": [
    "c = [1, 2, 'Hello', [10, 20]]\n",
    "print(c)"
   ]
  },
  {
   "cell_type": "markdown",
   "id": "785d7952",
   "metadata": {},
   "source": [
    "-----"
   ]
  },
  {
   "cell_type": "markdown",
   "id": "95eff1ec",
   "metadata": {},
   "source": [
    "### 리스트 인덱싱"
   ]
  },
  {
   "cell_type": "code",
   "execution_count": 9,
   "id": "f67d2ab3",
   "metadata": {},
   "outputs": [
    {
     "name": "stdout",
     "output_type": "stream",
     "text": [
      "[10, 20, 30, 40]\n"
     ]
    }
   ],
   "source": [
    "a = [10, 20, 30, 40]\n",
    "print(a)"
   ]
  },
  {
   "cell_type": "code",
   "execution_count": 10,
   "id": "af323e57",
   "metadata": {},
   "outputs": [
    {
     "data": {
      "text/plain": [
       "30"
      ]
     },
     "execution_count": 10,
     "metadata": {},
     "output_type": "execute_result"
    }
   ],
   "source": [
    "a[0] + a[1]"
   ]
  },
  {
   "cell_type": "code",
   "execution_count": 11,
   "id": "9ae170b5",
   "metadata": {},
   "outputs": [
    {
     "data": {
      "text/plain": [
       "40"
      ]
     },
     "execution_count": 11,
     "metadata": {},
     "output_type": "execute_result"
    }
   ],
   "source": [
    "a[-1]"
   ]
  },
  {
   "cell_type": "markdown",
   "id": "b266f380",
   "metadata": {},
   "source": [
    "-----"
   ]
  },
  {
   "cell_type": "markdown",
   "id": "8a5ab8e6",
   "metadata": {},
   "source": [
    "### 리스트 슬라이싱"
   ]
  },
  {
   "cell_type": "code",
   "execution_count": 12,
   "id": "1ac4c2c5",
   "metadata": {},
   "outputs": [
    {
     "data": {
      "text/plain": [
       "[20, 30]"
      ]
     },
     "execution_count": 12,
     "metadata": {},
     "output_type": "execute_result"
    }
   ],
   "source": [
    "a[1:3] #[시작점 : 끝나는지점] : 끝나는 지점은 포함되지 않음"
   ]
  },
  {
   "cell_type": "code",
   "execution_count": 13,
   "id": "37172b59",
   "metadata": {},
   "outputs": [
    {
     "name": "stdout",
     "output_type": "stream",
     "text": [
      "[10, 20, 30, [40, 50]]\n"
     ]
    }
   ],
   "source": [
    "a = [10, 20, 30, [40, 50]]\n",
    "print(a)"
   ]
  },
  {
   "cell_type": "code",
   "execution_count": 14,
   "id": "34cb42e1",
   "metadata": {},
   "outputs": [
    {
     "data": {
      "text/plain": [
       "[10, 20]"
      ]
     },
     "execution_count": 14,
     "metadata": {},
     "output_type": "execute_result"
    }
   ],
   "source": [
    "a[0:2]"
   ]
  },
  {
   "cell_type": "code",
   "execution_count": 15,
   "id": "5ae1d406",
   "metadata": {},
   "outputs": [
    {
     "data": {
      "text/plain": [
       "[10, 20]"
      ]
     },
     "execution_count": 15,
     "metadata": {},
     "output_type": "execute_result"
    }
   ],
   "source": [
    "a[:2]"
   ]
  },
  {
   "cell_type": "code",
   "execution_count": 16,
   "id": "02cff175",
   "metadata": {},
   "outputs": [
    {
     "data": {
      "text/plain": [
       "[40, 50]"
      ]
     },
     "execution_count": 16,
     "metadata": {},
     "output_type": "execute_result"
    }
   ],
   "source": [
    "a[3]"
   ]
  },
  {
   "cell_type": "code",
   "execution_count": 17,
   "id": "651a07bc",
   "metadata": {},
   "outputs": [
    {
     "data": {
      "text/plain": [
       "40"
      ]
     },
     "execution_count": 17,
     "metadata": {},
     "output_type": "execute_result"
    }
   ],
   "source": [
    "a[3][0]"
   ]
  },
  {
   "cell_type": "code",
   "execution_count": 18,
   "id": "cb8b94e7",
   "metadata": {},
   "outputs": [
    {
     "data": {
      "text/plain": [
       "[40, 50]"
      ]
     },
     "execution_count": 18,
     "metadata": {},
     "output_type": "execute_result"
    }
   ],
   "source": [
    "a[-1]"
   ]
  },
  {
   "cell_type": "code",
   "execution_count": 19,
   "id": "cc311392",
   "metadata": {},
   "outputs": [
    {
     "data": {
      "text/plain": [
       "40"
      ]
     },
     "execution_count": 19,
     "metadata": {},
     "output_type": "execute_result"
    }
   ],
   "source": [
    "a[-1][0]"
   ]
  },
  {
   "cell_type": "code",
   "execution_count": 20,
   "id": "6ae4bf1b",
   "metadata": {},
   "outputs": [
    {
     "data": {
      "text/plain": [
       "[20, 30, [40, 50]]"
      ]
     },
     "execution_count": 20,
     "metadata": {},
     "output_type": "execute_result"
    }
   ],
   "source": [
    "a[1:4]"
   ]
  },
  {
   "cell_type": "code",
   "execution_count": 21,
   "id": "b80b0b21",
   "metadata": {},
   "outputs": [
    {
     "data": {
      "text/plain": [
       "[20, 30, [40, 50]]"
      ]
     },
     "execution_count": 21,
     "metadata": {},
     "output_type": "execute_result"
    }
   ],
   "source": [
    "a[1:]"
   ]
  },
  {
   "cell_type": "markdown",
   "id": "b90a6aba",
   "metadata": {},
   "source": [
    "-----"
   ]
  },
  {
   "cell_type": "markdown",
   "id": "8b57e728",
   "metadata": {},
   "source": [
    "### 리스트 값 변경하기"
   ]
  },
  {
   "cell_type": "code",
   "execution_count": 22,
   "id": "448ef013",
   "metadata": {},
   "outputs": [
    {
     "name": "stdout",
     "output_type": "stream",
     "text": [
      "[10, 20, 30]\n"
     ]
    }
   ],
   "source": [
    "a = [10, 20, 30]\n",
    "print(a)"
   ]
  },
  {
   "cell_type": "code",
   "execution_count": 23,
   "id": "3e3eb383",
   "metadata": {},
   "outputs": [
    {
     "data": {
      "text/plain": [
       "[20, 30]"
      ]
     },
     "execution_count": 23,
     "metadata": {},
     "output_type": "execute_result"
    }
   ],
   "source": [
    "a[1:3]"
   ]
  },
  {
   "cell_type": "code",
   "execution_count": 24,
   "id": "17b3137c",
   "metadata": {},
   "outputs": [
    {
     "data": {
      "text/plain": [
       "10"
      ]
     },
     "execution_count": 24,
     "metadata": {},
     "output_type": "execute_result"
    }
   ],
   "source": [
    "a[0]"
   ]
  },
  {
   "cell_type": "code",
   "execution_count": 25,
   "id": "0be058a9",
   "metadata": {},
   "outputs": [
    {
     "data": {
      "text/plain": [
       "[100, 20, 30]"
      ]
     },
     "execution_count": 25,
     "metadata": {},
     "output_type": "execute_result"
    }
   ],
   "source": [
    "a[0] = 100\n",
    "a"
   ]
  },
  {
   "cell_type": "code",
   "execution_count": 27,
   "id": "6c860cbb",
   "metadata": {},
   "outputs": [
    {
     "data": {
      "text/plain": [
       "[100, 90, 100]"
      ]
     },
     "execution_count": 27,
     "metadata": {},
     "output_type": "execute_result"
    }
   ],
   "source": [
    "a[1:3] = [90, 100]\n",
    "a"
   ]
  },
  {
   "cell_type": "markdown",
   "id": "5834c847",
   "metadata": {},
   "source": [
    "-----"
   ]
  },
  {
   "cell_type": "markdown",
   "id": "3190c558",
   "metadata": {},
   "source": [
    "### 리스트 제어 함수"
   ]
  },
  {
   "cell_type": "markdown",
   "id": "71fed246",
   "metadata": {},
   "source": [
    "- list.append( 값 )"
   ]
  },
  {
   "cell_type": "code",
   "execution_count": 28,
   "id": "d77097f6",
   "metadata": {},
   "outputs": [
    {
     "data": {
      "text/plain": [
       "[100, 90, 100, 80]"
      ]
     },
     "execution_count": 28,
     "metadata": {},
     "output_type": "execute_result"
    }
   ],
   "source": [
    "a.append(80) #값을 하나씩 추가 가능\n",
    "a"
   ]
  },
  {
   "cell_type": "code",
   "execution_count": 29,
   "id": "cddbda15",
   "metadata": {},
   "outputs": [
    {
     "data": {
      "text/plain": [
       "[100, 90, 100, 80, [70, 50]]"
      ]
     },
     "execution_count": 29,
     "metadata": {},
     "output_type": "execute_result"
    }
   ],
   "source": [
    "a.append([70, 50]) #두개 이상은 리스트형태로 추가 가능\n",
    "a"
   ]
  },
  {
   "cell_type": "code",
   "execution_count": 30,
   "id": "214382b8",
   "metadata": {},
   "outputs": [
    {
     "data": {
      "text/plain": [
       "[100, 90, 100, 80, [70, 50], 80, 50]"
      ]
     },
     "execution_count": 30,
     "metadata": {},
     "output_type": "execute_result"
    }
   ],
   "source": [
    "a.append(80)\n",
    "a.append(50)\n",
    "a"
   ]
  },
  {
   "cell_type": "markdown",
   "id": "ab4577a5",
   "metadata": {},
   "source": [
    "-----"
   ]
  },
  {
   "cell_type": "markdown",
   "id": "ae0be53d",
   "metadata": {},
   "source": [
    "- list.insert(위치, 값)"
   ]
  },
  {
   "cell_type": "code",
   "execution_count": 31,
   "id": "6b31473a",
   "metadata": {},
   "outputs": [
    {
     "data": {
      "text/plain": [
       "[100, 60, 90, 100, 80, [70, 50], 80, 50]"
      ]
     },
     "execution_count": 31,
     "metadata": {},
     "output_type": "execute_result"
    }
   ],
   "source": [
    "a.insert(1, 60) #원하는 위치에 원하는 값을 추가\n",
    "a"
   ]
  },
  {
   "cell_type": "markdown",
   "id": "64ec68ce",
   "metadata": {},
   "source": [
    "-----"
   ]
  },
  {
   "cell_type": "markdown",
   "id": "13f1ac5a",
   "metadata": {},
   "source": [
    "- list.sort(reverse = True or False) "
   ]
  },
  {
   "cell_type": "code",
   "execution_count": 32,
   "id": "8ae122a9",
   "metadata": {},
   "outputs": [
    {
     "data": {
      "text/plain": [
       "[2, 4, 5, 6, 8]"
      ]
     },
     "execution_count": 32,
     "metadata": {},
     "output_type": "execute_result"
    }
   ],
   "source": [
    "a = [8, 6, 5, 2, 4]\n",
    "a.sort() #default : 오름차순(가나다라, abc, 123 순)\n",
    "a"
   ]
  },
  {
   "cell_type": "code",
   "execution_count": 33,
   "id": "eca476dc",
   "metadata": {},
   "outputs": [
    {
     "data": {
      "text/plain": [
       "[8, 6, 5, 4, 2]"
      ]
     },
     "execution_count": 33,
     "metadata": {},
     "output_type": "execute_result"
    }
   ],
   "source": [
    "a.sort(reverse = True) #reverse = True : 내림차순\n",
    "a"
   ]
  },
  {
   "cell_type": "code",
   "execution_count": 34,
   "id": "7798585a",
   "metadata": {},
   "outputs": [
    {
     "data": {
      "text/plain": [
       "['딕셔너리', '리스트', '세트', '튜플']"
      ]
     },
     "execution_count": 34,
     "metadata": {},
     "output_type": "execute_result"
    }
   ],
   "source": [
    "a = ['리스트', '튜플', '딕셔너리', '세트']\n",
    "a.sort()\n",
    "a"
   ]
  },
  {
   "cell_type": "code",
   "execution_count": 35,
   "id": "ee45c78e",
   "metadata": {},
   "outputs": [
    {
     "data": {
      "text/plain": [
       "['튜플', '세트', '리스트', '딕셔너리']"
      ]
     },
     "execution_count": 35,
     "metadata": {},
     "output_type": "execute_result"
    }
   ],
   "source": [
    "a.sort(reverse = True)\n",
    "a"
   ]
  },
  {
   "cell_type": "markdown",
   "id": "70fa84b1",
   "metadata": {},
   "source": [
    "-----"
   ]
  },
  {
   "cell_type": "markdown",
   "id": "b12e8c43",
   "metadata": {},
   "source": [
    "- list.pop( 위치 )"
   ]
  },
  {
   "cell_type": "code",
   "execution_count": 36,
   "id": "ab5c3bc7",
   "metadata": {},
   "outputs": [
    {
     "data": {
      "text/plain": [
       "'딕셔너리'"
      ]
     },
     "execution_count": 36,
     "metadata": {},
     "output_type": "execute_result"
    }
   ],
   "source": [
    "a.pop() #마지막 요소를 빼내고, 빼낸 요소는 삭제"
   ]
  },
  {
   "cell_type": "code",
   "execution_count": 37,
   "id": "0e0ffc4a",
   "metadata": {},
   "outputs": [
    {
     "data": {
      "text/plain": [
       "['튜플', '세트', '리스트']"
      ]
     },
     "execution_count": 37,
     "metadata": {},
     "output_type": "execute_result"
    }
   ],
   "source": [
    "a"
   ]
  },
  {
   "cell_type": "code",
   "execution_count": 38,
   "id": "1b30bdfc",
   "metadata": {},
   "outputs": [
    {
     "data": {
      "text/plain": [
       "'세트'"
      ]
     },
     "execution_count": 38,
     "metadata": {},
     "output_type": "execute_result"
    }
   ],
   "source": [
    "a.pop(1)"
   ]
  },
  {
   "cell_type": "code",
   "execution_count": 39,
   "id": "57daa7d8",
   "metadata": {
    "scrolled": true
   },
   "outputs": [
    {
     "data": {
      "text/plain": [
       "['튜플', '리스트']"
      ]
     },
     "execution_count": 39,
     "metadata": {},
     "output_type": "execute_result"
    }
   ],
   "source": [
    "a"
   ]
  },
  {
   "cell_type": "markdown",
   "id": "b5534183",
   "metadata": {},
   "source": [
    "-----"
   ]
  },
  {
   "cell_type": "markdown",
   "id": "4f34216d",
   "metadata": {},
   "source": [
    "- list.remove( 삭제할 값 )"
   ]
  },
  {
   "cell_type": "code",
   "execution_count": 40,
   "id": "a0eebbde",
   "metadata": {},
   "outputs": [
    {
     "data": {
      "text/plain": [
       "['튜플']"
      ]
     },
     "execution_count": 40,
     "metadata": {},
     "output_type": "execute_result"
    }
   ],
   "source": [
    "a.remove('리스트')\n",
    "a"
   ]
  },
  {
   "cell_type": "code",
   "execution_count": 41,
   "id": "b0457511",
   "metadata": {},
   "outputs": [
    {
     "data": {
      "text/plain": [
       "[1, 3, 4, 5]"
      ]
     },
     "execution_count": 41,
     "metadata": {},
     "output_type": "execute_result"
    }
   ],
   "source": [
    "a = [1, 1, 3, 4, 5]\n",
    "a.remove(1) #해당 요소를 찾아 삭제\n",
    "a"
   ]
  },
  {
   "cell_type": "markdown",
   "id": "a3908b33",
   "metadata": {},
   "source": [
    "-----"
   ]
  },
  {
   "cell_type": "markdown",
   "id": "3c1a1e8e",
   "metadata": {},
   "source": [
    "- list.count( 찾을 값 ) "
   ]
  },
  {
   "cell_type": "code",
   "execution_count": 42,
   "id": "ff127a9f",
   "metadata": {},
   "outputs": [
    {
     "data": {
      "text/plain": [
       "3"
      ]
     },
     "execution_count": 42,
     "metadata": {},
     "output_type": "execute_result"
    }
   ],
   "source": [
    "a = [10, 20, 30, 20, 40, 20]\n",
    "a.count(20) #해당 요소의 개수를 반환"
   ]
  },
  {
   "cell_type": "markdown",
   "id": "636accbd",
   "metadata": {},
   "source": [
    "-----"
   ]
  },
  {
   "cell_type": "markdown",
   "id": "d574d7ed",
   "metadata": {},
   "source": [
    "- list.index( 값 )"
   ]
  },
  {
   "cell_type": "code",
   "execution_count": 43,
   "id": "00b7dd31",
   "metadata": {},
   "outputs": [
    {
     "data": {
      "text/plain": [
       "1"
      ]
     },
     "execution_count": 43,
     "metadata": {},
     "output_type": "execute_result"
    }
   ],
   "source": [
    "a.index(20) #리스트에 위치 값이 있으면 위치값을 반환"
   ]
  },
  {
   "cell_type": "code",
   "execution_count": 44,
   "id": "d56a2971",
   "metadata": {},
   "outputs": [
    {
     "data": {
      "text/plain": [
       "20"
      ]
     },
     "execution_count": 44,
     "metadata": {},
     "output_type": "execute_result"
    }
   ],
   "source": [
    "a[1]"
   ]
  },
  {
   "cell_type": "code",
   "execution_count": 45,
   "id": "8183548a",
   "metadata": {
    "scrolled": true
   },
   "outputs": [
    {
     "ename": "AttributeError",
     "evalue": "'list' object has no attribute 'find'",
     "output_type": "error",
     "traceback": [
      "\u001b[0;31m---------------------------------------------------------------------------\u001b[0m",
      "\u001b[0;31mAttributeError\u001b[0m                            Traceback (most recent call last)",
      "\u001b[0;32m<ipython-input-45-d0f013dab1d2>\u001b[0m in \u001b[0;36m<module>\u001b[0;34m\u001b[0m\n\u001b[0;32m----> 1\u001b[0;31m \u001b[0ma\u001b[0m\u001b[0;34m.\u001b[0m\u001b[0mfind\u001b[0m\u001b[0;34m(\u001b[0m\u001b[0;36m20\u001b[0m\u001b[0;34m)\u001b[0m\u001b[0;34m\u001b[0m\u001b[0;34m\u001b[0m\u001b[0m\n\u001b[0m",
      "\u001b[0;31mAttributeError\u001b[0m: 'list' object has no attribute 'find'"
     ]
    }
   ],
   "source": [
    "a.find(20) #문자열에서 가능, 리스트에서는 사용 X"
   ]
  },
  {
   "cell_type": "markdown",
   "id": "ce87ec2f",
   "metadata": {},
   "source": [
    "-----"
   ]
  },
  {
   "cell_type": "markdown",
   "id": "78e47d94",
   "metadata": {},
   "source": [
    "- len( list )"
   ]
  },
  {
   "cell_type": "code",
   "execution_count": 46,
   "id": "5f7625e4",
   "metadata": {},
   "outputs": [
    {
     "data": {
      "text/plain": [
       "6"
      ]
     },
     "execution_count": 46,
     "metadata": {},
     "output_type": "execute_result"
    }
   ],
   "source": [
    "len(a) #리스트 총 요소 개수를 반환"
   ]
  },
  {
   "cell_type": "markdown",
   "id": "c1502345",
   "metadata": {},
   "source": [
    "-----"
   ]
  },
  {
   "cell_type": "markdown",
   "id": "60d87310",
   "metadata": {},
   "source": [
    "## 튜플 자료형"
   ]
  },
  {
   "cell_type": "code",
   "execution_count": 47,
   "id": "f6e9151a",
   "metadata": {},
   "outputs": [
    {
     "name": "stdout",
     "output_type": "stream",
     "text": [
      "()\n"
     ]
    }
   ],
   "source": [
    "a = ()\n",
    "print(a)"
   ]
  },
  {
   "cell_type": "code",
   "execution_count": 48,
   "id": "210eba4a",
   "metadata": {},
   "outputs": [
    {
     "name": "stdout",
     "output_type": "stream",
     "text": [
      "(1, 2, 3)\n"
     ]
    }
   ],
   "source": [
    "a = (1, 2, 3)\n",
    "print(a)"
   ]
  },
  {
   "cell_type": "code",
   "execution_count": 49,
   "id": "de03d6c2",
   "metadata": {},
   "outputs": [
    {
     "name": "stdout",
     "output_type": "stream",
     "text": [
      "()\n"
     ]
    }
   ],
   "source": [
    "a = tuple()\n",
    "print(a)"
   ]
  },
  {
   "cell_type": "code",
   "execution_count": 50,
   "id": "4ac0c359",
   "metadata": {},
   "outputs": [
    {
     "name": "stdout",
     "output_type": "stream",
     "text": [
      "(1, 2, 3)\n"
     ]
    }
   ],
   "source": [
    "a = 1, 2, 3 #괄호 생략 가능\n",
    "print(a)"
   ]
  },
  {
   "cell_type": "code",
   "execution_count": 51,
   "id": "ee7c9805",
   "metadata": {},
   "outputs": [
    {
     "name": "stdout",
     "output_type": "stream",
     "text": [
      "(1,)\n"
     ]
    }
   ],
   "source": [
    "a = 1,\n",
    "print(a)"
   ]
  },
  {
   "cell_type": "code",
   "execution_count": 52,
   "id": "85499743",
   "metadata": {},
   "outputs": [
    {
     "name": "stdout",
     "output_type": "stream",
     "text": [
      "(1,)\n"
     ]
    }
   ],
   "source": [
    "a = (1,)\n",
    "print(a)"
   ]
  },
  {
   "cell_type": "code",
   "execution_count": 53,
   "id": "292303b8",
   "metadata": {},
   "outputs": [
    {
     "name": "stdout",
     "output_type": "stream",
     "text": [
      "1\n"
     ]
    }
   ],
   "source": [
    "a = (1)\n",
    "print(a)"
   ]
  },
  {
   "cell_type": "code",
   "execution_count": 54,
   "id": "a45f96f2",
   "metadata": {},
   "outputs": [
    {
     "name": "stdout",
     "output_type": "stream",
     "text": [
      "(0, 1, 2, 3, 4, 5, 6, 7, 8, 9)\n"
     ]
    }
   ],
   "source": [
    "a = tuple(range(10))\n",
    "print(a)"
   ]
  },
  {
   "cell_type": "code",
   "execution_count": 55,
   "id": "24075942",
   "metadata": {},
   "outputs": [
    {
     "name": "stdout",
     "output_type": "stream",
     "text": [
      "(10, 20, (30, 40))\n"
     ]
    }
   ],
   "source": [
    "a = (10, 20, (30, 40))\n",
    "print(a)"
   ]
  },
  {
   "cell_type": "code",
   "execution_count": 56,
   "id": "ef5a2c82",
   "metadata": {},
   "outputs": [
    {
     "name": "stdout",
     "output_type": "stream",
     "text": [
      "[1, 2, 3, 4, 5]\n"
     ]
    }
   ],
   "source": [
    "a = [1, 2, 3, 4, 5]\n",
    "print(a)"
   ]
  },
  {
   "cell_type": "code",
   "execution_count": 57,
   "id": "747438be",
   "metadata": {},
   "outputs": [
    {
     "name": "stdout",
     "output_type": "stream",
     "text": [
      "(1, 2, 3, 4, 5)\n"
     ]
    }
   ],
   "source": [
    "a = tuple(a)\n",
    "print(a)"
   ]
  },
  {
   "cell_type": "code",
   "execution_count": 58,
   "id": "2fba1172",
   "metadata": {},
   "outputs": [
    {
     "name": "stdout",
     "output_type": "stream",
     "text": [
      "(1, 2, 'a', 'b')\n"
     ]
    }
   ],
   "source": [
    "a = (1, 2, 'a', 'b')\n",
    "print(a)"
   ]
  },
  {
   "cell_type": "code",
   "execution_count": 59,
   "id": "deab3c9e",
   "metadata": {},
   "outputs": [
    {
     "ename": "TypeError",
     "evalue": "'tuple' object does not support item assignment",
     "output_type": "error",
     "traceback": [
      "\u001b[0;31m---------------------------------------------------------------------------\u001b[0m",
      "\u001b[0;31mTypeError\u001b[0m                                 Traceback (most recent call last)",
      "\u001b[0;32m<ipython-input-59-c55e479e7831>\u001b[0m in \u001b[0;36m<module>\u001b[0;34m\u001b[0m\n\u001b[0;32m----> 1\u001b[0;31m \u001b[0ma\u001b[0m\u001b[0;34m[\u001b[0m\u001b[0;36m0\u001b[0m\u001b[0;34m]\u001b[0m \u001b[0;34m=\u001b[0m \u001b[0;36m3\u001b[0m\u001b[0;34m\u001b[0m\u001b[0;34m\u001b[0m\u001b[0m\n\u001b[0m",
      "\u001b[0;31mTypeError\u001b[0m: 'tuple' object does not support item assignment"
     ]
    }
   ],
   "source": [
    "a[0] = 3 #튜플에서는 값 변경 삭제 추가 불가능"
   ]
  },
  {
   "cell_type": "code",
   "execution_count": 60,
   "id": "e622d5ea",
   "metadata": {},
   "outputs": [
    {
     "data": {
      "text/plain": [
       "'b'"
      ]
     },
     "execution_count": 60,
     "metadata": {},
     "output_type": "execute_result"
    }
   ],
   "source": [
    "a[-1] #인덱싱은 리스트와 동일"
   ]
  },
  {
   "cell_type": "code",
   "execution_count": 61,
   "id": "ca794c09",
   "metadata": {},
   "outputs": [
    {
     "data": {
      "text/plain": [
       "(1, 2)"
      ]
     },
     "execution_count": 61,
     "metadata": {},
     "output_type": "execute_result"
    }
   ],
   "source": [
    "a[:2] #슬라이싱은 리스트와 동일"
   ]
  },
  {
   "cell_type": "markdown",
   "id": "3d4d40a4",
   "metadata": {},
   "source": [
    "## 딕셔너리 자료형"
   ]
  },
  {
   "attachments": {},
   "cell_type": "markdown",
   "id": "a9f3c7ec",
   "metadata": {},
   "source": [
    "- 딕셔너리 = {키1: 값1, 키2: 값2}\n",
    "- 딕셔너리 = {}\n",
    "- 딕셔너리 = dict()\n",
    "- 딕셔너리 = dict(키1=값1, 키2=값2)\n",
    "- 딕셔너리 = dict(zip([키1, 키2], [값1, 값2]))\n",
    "- 딕셔너리 = dict(키1, 값1)\n",
    "- 딕셔너리 = dict([(키1, 값1), (키2, 값2)])\n",
    "- 딕셔너리 = dict({키1: 값1, 키2: 값2})"
   ]
  },
  {
   "cell_type": "code",
   "execution_count": 1,
   "id": "d88cb434",
   "metadata": {},
   "outputs": [],
   "source": [
    "array = [1, 2, 3, 3, 3, 4]"
   ]
  },
  {
   "cell_type": "code",
   "execution_count": 4,
   "id": "4565211c",
   "metadata": {},
   "outputs": [
    {
     "data": {
      "text/plain": [
       "{1: 1, 2: 1, 3: 3, 4: 1}"
      ]
     },
     "execution_count": 4,
     "metadata": {},
     "output_type": "execute_result"
    }
   ],
   "source": [
    "a = dict((i, array.count(i)) for i in array)\n",
    "a"
   ]
  },
  {
   "cell_type": "code",
   "execution_count": 62,
   "id": "3ff96c00",
   "metadata": {},
   "outputs": [
    {
     "name": "stdout",
     "output_type": "stream",
     "text": [
      "{}\n"
     ]
    }
   ],
   "source": [
    "a = {}\n",
    "print(a)"
   ]
  },
  {
   "cell_type": "code",
   "execution_count": 63,
   "id": "f36023d6",
   "metadata": {},
   "outputs": [
    {
     "name": "stdout",
     "output_type": "stream",
     "text": [
      "{}\n"
     ]
    }
   ],
   "source": [
    "a = dict()\n",
    "print(a)"
   ]
  },
  {
   "cell_type": "code",
   "execution_count": 64,
   "id": "55c5f487",
   "metadata": {},
   "outputs": [
    {
     "name": "stdout",
     "output_type": "stream",
     "text": [
      "{1: '사과', 2: '딸기'}\n"
     ]
    }
   ],
   "source": [
    "fruit = {1:'사과', 2:'딸기'}\n",
    "print(fruit)"
   ]
  },
  {
   "cell_type": "code",
   "execution_count": 1,
   "id": "91d3cf7e",
   "metadata": {},
   "outputs": [
    {
     "name": "stdout",
     "output_type": "stream",
     "text": [
      "{'김밥': 2000, '라면': 3000, '돈까스': 5000}\n"
     ]
    }
   ],
   "source": [
    "menu = {'김밥':2000, '라면':3000, '돈까스':5000}\n",
    "print(menu)"
   ]
  },
  {
   "cell_type": "code",
   "execution_count": 2,
   "id": "a568d827",
   "metadata": {},
   "outputs": [
    {
     "data": {
      "text/plain": [
       "2000"
      ]
     },
     "execution_count": 2,
     "metadata": {},
     "output_type": "execute_result"
    }
   ],
   "source": [
    "menu['김밥']"
   ]
  },
  {
   "cell_type": "code",
   "execution_count": 3,
   "id": "debc6929",
   "metadata": {},
   "outputs": [
    {
     "ename": "KeyError",
     "evalue": "'떡볶이'",
     "output_type": "error",
     "traceback": [
      "\u001b[0;31m---------------------------------------------------------------------------\u001b[0m",
      "\u001b[0;31mKeyError\u001b[0m                                  Traceback (most recent call last)",
      "\u001b[0;32m<ipython-input-3-426a2e6cdc0a>\u001b[0m in \u001b[0;36m<module>\u001b[0;34m\u001b[0m\n\u001b[0;32m----> 1\u001b[0;31m \u001b[0mmenu\u001b[0m\u001b[0;34m[\u001b[0m\u001b[0;34m'떡볶이'\u001b[0m\u001b[0;34m]\u001b[0m\u001b[0;34m\u001b[0m\u001b[0;34m\u001b[0m\u001b[0m\n\u001b[0m",
      "\u001b[0;31mKeyError\u001b[0m: '떡볶이'"
     ]
    }
   ],
   "source": [
    "menu['떡볶이']"
   ]
  },
  {
   "cell_type": "code",
   "execution_count": 4,
   "id": "61891abb",
   "metadata": {},
   "outputs": [
    {
     "data": {
      "text/plain": [
       "{'김밥': 2000, '라면': 3000, '돈까스': 5000, '떡볶이': 3000}"
      ]
     },
     "execution_count": 4,
     "metadata": {},
     "output_type": "execute_result"
    }
   ],
   "source": [
    "menu['떡볶이'] = 3000\n",
    "menu"
   ]
  },
  {
   "cell_type": "markdown",
   "id": "451fb6e5",
   "metadata": {},
   "source": [
    "-----"
   ]
  },
  {
   "cell_type": "markdown",
   "id": "b8dab2e8",
   "metadata": {},
   "source": [
    "### 딕셔너리 제어 함수"
   ]
  },
  {
   "cell_type": "markdown",
   "id": "ca8a8c41",
   "metadata": {},
   "source": [
    "- dict.keys( )"
   ]
  },
  {
   "cell_type": "code",
   "execution_count": 5,
   "id": "a36bffeb",
   "metadata": {},
   "outputs": [
    {
     "data": {
      "text/plain": [
       "dict_keys(['김밥', '라면', '돈까스', '떡볶이'])"
      ]
     },
     "execution_count": 5,
     "metadata": {},
     "output_type": "execute_result"
    }
   ],
   "source": [
    "menu.keys()"
   ]
  },
  {
   "cell_type": "code",
   "execution_count": 6,
   "id": "fedd49b6",
   "metadata": {},
   "outputs": [
    {
     "data": {
      "text/plain": [
       "dict_keys(['김밥', '라면', '돈까스', '떡볶이'])"
      ]
     },
     "execution_count": 6,
     "metadata": {},
     "output_type": "execute_result"
    }
   ],
   "source": [
    "menu_keys = menu.keys() #저장된 키\n",
    "menu_keys"
   ]
  },
  {
   "cell_type": "code",
   "execution_count": 8,
   "id": "26750353",
   "metadata": {},
   "outputs": [
    {
     "data": {
      "text/plain": [
       "'김밥'"
      ]
     },
     "execution_count": 8,
     "metadata": {},
     "output_type": "execute_result"
    }
   ],
   "source": [
    "menu_keys = list(menu_keys) #딕셔너리는 순서가 없기 때문에 순서가 있는 리스트형태로 변환해줘야 인덱싱 가능\n",
    "menu_keys[0]"
   ]
  },
  {
   "cell_type": "code",
   "execution_count": 9,
   "id": "863a3a3d",
   "metadata": {},
   "outputs": [
    {
     "data": {
      "text/plain": [
       "['김밥', '라면', '돈까스', '떡볶이']"
      ]
     },
     "execution_count": 9,
     "metadata": {},
     "output_type": "execute_result"
    }
   ],
   "source": [
    "menu_keys"
   ]
  },
  {
   "cell_type": "markdown",
   "id": "8b2be4b8",
   "metadata": {},
   "source": [
    "-----"
   ]
  },
  {
   "cell_type": "markdown",
   "id": "53bd9e42",
   "metadata": {},
   "source": [
    "- dict.values( )"
   ]
  },
  {
   "cell_type": "code",
   "execution_count": 10,
   "id": "b2b4ada8",
   "metadata": {},
   "outputs": [
    {
     "data": {
      "text/plain": [
       "dict_values([2000, 3000, 5000, 3000])"
      ]
     },
     "execution_count": 10,
     "metadata": {},
     "output_type": "execute_result"
    }
   ],
   "source": [
    "menu.values() #저장된 값"
   ]
  },
  {
   "cell_type": "markdown",
   "id": "ff3197c0",
   "metadata": {},
   "source": [
    "-----"
   ]
  },
  {
   "cell_type": "markdown",
   "id": "cd7337c6",
   "metadata": {},
   "source": [
    "- dict.items( )"
   ]
  },
  {
   "cell_type": "code",
   "execution_count": 11,
   "id": "c690bf28",
   "metadata": {},
   "outputs": [
    {
     "data": {
      "text/plain": [
       "dict_items([('김밥', 2000), ('라면', 3000), ('돈까스', 5000), ('떡볶이', 3000)])"
      ]
     },
     "execution_count": 11,
     "metadata": {},
     "output_type": "execute_result"
    }
   ],
   "source": [
    "menu.items() #저장된 항목"
   ]
  },
  {
   "cell_type": "code",
   "execution_count": 12,
   "id": "79d16b33",
   "metadata": {},
   "outputs": [
    {
     "data": {
      "text/plain": [
       "2000"
      ]
     },
     "execution_count": 12,
     "metadata": {},
     "output_type": "execute_result"
    }
   ],
   "source": [
    "menu['김밥']"
   ]
  },
  {
   "cell_type": "code",
   "execution_count": 13,
   "id": "8be148e1",
   "metadata": {},
   "outputs": [
    {
     "ename": "KeyError",
     "evalue": "'어묵'",
     "output_type": "error",
     "traceback": [
      "\u001b[0;31m---------------------------------------------------------------------------\u001b[0m",
      "\u001b[0;31mKeyError\u001b[0m                                  Traceback (most recent call last)",
      "\u001b[0;32m<ipython-input-13-c31d2374f791>\u001b[0m in \u001b[0;36m<module>\u001b[0;34m\u001b[0m\n\u001b[0;32m----> 1\u001b[0;31m \u001b[0mmenu\u001b[0m\u001b[0;34m[\u001b[0m\u001b[0;34m'어묵'\u001b[0m\u001b[0;34m]\u001b[0m\u001b[0;34m\u001b[0m\u001b[0;34m\u001b[0m\u001b[0m\n\u001b[0m",
      "\u001b[0;31mKeyError\u001b[0m: '어묵'"
     ]
    }
   ],
   "source": [
    "menu['어묵']"
   ]
  },
  {
   "cell_type": "markdown",
   "id": "6b8c1772",
   "metadata": {},
   "source": [
    "-----"
   ]
  },
  {
   "cell_type": "markdown",
   "id": "6f8f1a2e",
   "metadata": {},
   "source": [
    "- dict.get( key )"
   ]
  },
  {
   "cell_type": "code",
   "execution_count": 14,
   "id": "b150ccc3",
   "metadata": {},
   "outputs": [
    {
     "data": {
      "text/plain": [
       "2000"
      ]
     },
     "execution_count": 14,
     "metadata": {},
     "output_type": "execute_result"
    }
   ],
   "source": [
    "menu.get('김밥')"
   ]
  },
  {
   "cell_type": "code",
   "execution_count": 15,
   "id": "ddbdec7e",
   "metadata": {},
   "outputs": [],
   "source": [
    "menu.get('어묵')"
   ]
  },
  {
   "cell_type": "code",
   "execution_count": 17,
   "id": "efa971a4",
   "metadata": {},
   "outputs": [
    {
     "data": {
      "text/plain": [
       "9999"
      ]
     },
     "execution_count": 17,
     "metadata": {},
     "output_type": "execute_result"
    }
   ],
   "source": [
    "menu.get('어묵', 9999) #특정한 값이 없을때 가능(반복문을 사용할때 특정한 값이 없을경우, 예를 들어 9999로 나타낼 수 있음)"
   ]
  },
  {
   "cell_type": "markdown",
   "id": "e89880db",
   "metadata": {},
   "source": [
    "-----"
   ]
  },
  {
   "cell_type": "markdown",
   "id": "eabeab19",
   "metadata": {},
   "source": [
    "- dict.pop( key )\n",
    "- del( dict[key] )"
   ]
  },
  {
   "cell_type": "code",
   "execution_count": 82,
   "id": "93c60bd0",
   "metadata": {},
   "outputs": [
    {
     "ename": "TypeError",
     "evalue": "pop expected at least 1 argument, got 0",
     "output_type": "error",
     "traceback": [
      "\u001b[0;31m---------------------------------------------------------------------------\u001b[0m",
      "\u001b[0;31mTypeError\u001b[0m                                 Traceback (most recent call last)",
      "\u001b[0;32m<ipython-input-82-174e3fa76ea4>\u001b[0m in \u001b[0;36m<module>\u001b[0;34m\u001b[0m\n\u001b[0;32m----> 1\u001b[0;31m \u001b[0mmenu\u001b[0m\u001b[0;34m.\u001b[0m\u001b[0mpop\u001b[0m\u001b[0;34m(\u001b[0m\u001b[0;34m)\u001b[0m\u001b[0;34m\u001b[0m\u001b[0;34m\u001b[0m\u001b[0m\n\u001b[0m",
      "\u001b[0;31mTypeError\u001b[0m: pop expected at least 1 argument, got 0"
     ]
    }
   ],
   "source": [
    "menu.pop() #딕셔너리는 순서가 없기 때문에 key값을 입력해야함"
   ]
  },
  {
   "cell_type": "code",
   "execution_count": 83,
   "id": "ad9ca69e",
   "metadata": {},
   "outputs": [
    {
     "data": {
      "text/plain": [
       "2000"
      ]
     },
     "execution_count": 83,
     "metadata": {},
     "output_type": "execute_result"
    }
   ],
   "source": [
    "menu.pop('김밥') #del(menu['김밥'])"
   ]
  },
  {
   "cell_type": "code",
   "execution_count": 84,
   "id": "e98232a0",
   "metadata": {},
   "outputs": [
    {
     "data": {
      "text/plain": [
       "{'라면': 3000, '돈까스': 5000, '떡볶이': 3000}"
      ]
     },
     "execution_count": 84,
     "metadata": {},
     "output_type": "execute_result"
    }
   ],
   "source": [
    "menu"
   ]
  },
  {
   "cell_type": "markdown",
   "id": "e96103f9",
   "metadata": {},
   "source": [
    "-----"
   ]
  },
  {
   "cell_type": "markdown",
   "id": "27bae9b2",
   "metadata": {},
   "source": [
    "## 세트 자료형"
   ]
  },
  {
   "cell_type": "code",
   "execution_count": 85,
   "id": "ec183821",
   "metadata": {},
   "outputs": [
    {
     "name": "stdout",
     "output_type": "stream",
     "text": [
      "{10, 20, 30}\n"
     ]
    }
   ],
   "source": [
    "a = {10, 20, 30}\n",
    "print(a)"
   ]
  },
  {
   "cell_type": "code",
   "execution_count": 86,
   "id": "c799e946",
   "metadata": {},
   "outputs": [
    {
     "name": "stdout",
     "output_type": "stream",
     "text": [
      "{10, 20, 30}\n"
     ]
    }
   ],
   "source": [
    "b = set([10, 20, 30])\n",
    "print(b)"
   ]
  },
  {
   "cell_type": "code",
   "execution_count": 87,
   "id": "bc3443d6",
   "metadata": {},
   "outputs": [
    {
     "name": "stdout",
     "output_type": "stream",
     "text": [
      "{10, 20, 30}\n"
     ]
    }
   ],
   "source": [
    "a = {10, 20, 30, 20} #세트 자료형은 중복을 허용하지 않음\n",
    "print(a)"
   ]
  },
  {
   "cell_type": "code",
   "execution_count": 88,
   "id": "f3d5ae37",
   "metadata": {},
   "outputs": [
    {
     "name": "stdout",
     "output_type": "stream",
     "text": [
      "[1, 2, 3, 4, 6]\n"
     ]
    }
   ],
   "source": [
    "a = [1, 2, 3, 4, 1, 2, 6, 3, 2, 4, 1] #세트 자료형은 중복 제거할때 주로 사용!(수학의 집합과 같음)\n",
    "a = list(set(a))\n",
    "print(a)"
   ]
  },
  {
   "cell_type": "markdown",
   "id": "1f6b563c",
   "metadata": {},
   "source": [
    "-----"
   ]
  },
  {
   "cell_type": "markdown",
   "id": "cc24966d",
   "metadata": {},
   "source": [
    "- 교집합"
   ]
  },
  {
   "cell_type": "code",
   "execution_count": 89,
   "id": "a9c6b7b1",
   "metadata": {},
   "outputs": [],
   "source": [
    "a = {10, 20, 30}\n",
    "b = {20, 40, 60}"
   ]
  },
  {
   "cell_type": "code",
   "execution_count": 90,
   "id": "6d1e4176",
   "metadata": {},
   "outputs": [
    {
     "data": {
      "text/plain": [
       "{20}"
      ]
     },
     "execution_count": 90,
     "metadata": {},
     "output_type": "execute_result"
    }
   ],
   "source": [
    "a & b #교집합"
   ]
  },
  {
   "cell_type": "code",
   "execution_count": 91,
   "id": "7a2a6d9e",
   "metadata": {},
   "outputs": [
    {
     "data": {
      "text/plain": [
       "{20}"
      ]
     },
     "execution_count": 91,
     "metadata": {},
     "output_type": "execute_result"
    }
   ],
   "source": [
    "a.intersection(b)"
   ]
  },
  {
   "cell_type": "markdown",
   "id": "d498eb29",
   "metadata": {},
   "source": [
    "-----"
   ]
  },
  {
   "cell_type": "markdown",
   "id": "b8832fcf",
   "metadata": {},
   "source": [
    "- 합집합"
   ]
  },
  {
   "cell_type": "code",
   "execution_count": 92,
   "id": "3313ae2e",
   "metadata": {},
   "outputs": [
    {
     "data": {
      "text/plain": [
       "{10, 20, 30, 40, 60}"
      ]
     },
     "execution_count": 92,
     "metadata": {},
     "output_type": "execute_result"
    }
   ],
   "source": [
    "a | b #합집합"
   ]
  },
  {
   "cell_type": "code",
   "execution_count": 93,
   "id": "e0818495",
   "metadata": {
    "scrolled": true
   },
   "outputs": [
    {
     "data": {
      "text/plain": [
       "{10, 20, 30, 40, 60}"
      ]
     },
     "execution_count": 93,
     "metadata": {},
     "output_type": "execute_result"
    }
   ],
   "source": [
    "a.union(b)"
   ]
  },
  {
   "cell_type": "markdown",
   "id": "78d17bd5",
   "metadata": {},
   "source": [
    "-----"
   ]
  },
  {
   "cell_type": "markdown",
   "id": "4a7163b5",
   "metadata": {},
   "source": [
    "- 차집합"
   ]
  },
  {
   "cell_type": "code",
   "execution_count": 94,
   "id": "3e094c23",
   "metadata": {},
   "outputs": [
    {
     "data": {
      "text/plain": [
       "{10, 30}"
      ]
     },
     "execution_count": 94,
     "metadata": {},
     "output_type": "execute_result"
    }
   ],
   "source": [
    "a - b #차집합"
   ]
  },
  {
   "cell_type": "code",
   "execution_count": 95,
   "id": "5d795e14",
   "metadata": {},
   "outputs": [
    {
     "data": {
      "text/plain": [
       "{40, 60}"
      ]
     },
     "execution_count": 95,
     "metadata": {},
     "output_type": "execute_result"
    }
   ],
   "source": [
    "b - a"
   ]
  },
  {
   "cell_type": "code",
   "execution_count": 96,
   "id": "5bfb80e2",
   "metadata": {},
   "outputs": [
    {
     "data": {
      "text/plain": [
       "{10, 30}"
      ]
     },
     "execution_count": 96,
     "metadata": {},
     "output_type": "execute_result"
    }
   ],
   "source": [
    "a.difference(b)"
   ]
  },
  {
   "cell_type": "code",
   "execution_count": 97,
   "id": "bc11e9c0",
   "metadata": {},
   "outputs": [
    {
     "data": {
      "text/plain": [
       "{40, 60}"
      ]
     },
     "execution_count": 97,
     "metadata": {},
     "output_type": "execute_result"
    }
   ],
   "source": [
    "b.difference(a)"
   ]
  },
  {
   "cell_type": "markdown",
   "id": "6c319933",
   "metadata": {},
   "source": [
    "-----"
   ]
  },
  {
   "cell_type": "markdown",
   "id": "9651d2fd",
   "metadata": {},
   "source": [
    "- add( 값 )"
   ]
  },
  {
   "cell_type": "code",
   "execution_count": 98,
   "id": "0e4d9f42",
   "metadata": {},
   "outputs": [
    {
     "data": {
      "text/plain": [
       "{10, 20, 30, 40}"
      ]
     },
     "execution_count": 98,
     "metadata": {},
     "output_type": "execute_result"
    }
   ],
   "source": [
    "a.add(40)\n",
    "a"
   ]
  },
  {
   "cell_type": "code",
   "execution_count": 99,
   "id": "49a02255",
   "metadata": {
    "scrolled": true
   },
   "outputs": [
    {
     "data": {
      "text/plain": [
       "{10, 20, 30, 40}"
      ]
     },
     "execution_count": 99,
     "metadata": {},
     "output_type": "execute_result"
    }
   ],
   "source": [
    "a.add(30) #중복은 더 더해지지 않음\n",
    "a"
   ]
  },
  {
   "cell_type": "markdown",
   "id": "e9cd8a92",
   "metadata": {},
   "source": [
    "-----"
   ]
  },
  {
   "cell_type": "markdown",
   "id": "d0df6b82",
   "metadata": {},
   "source": [
    "- updata( [값, 값, ...] )"
   ]
  },
  {
   "cell_type": "code",
   "execution_count": 100,
   "id": "2c5e7d01",
   "metadata": {
    "scrolled": true
   },
   "outputs": [
    {
     "data": {
      "text/plain": [
       "{10, 20, 30, 40, 50, 60}"
      ]
     },
     "execution_count": 100,
     "metadata": {},
     "output_type": "execute_result"
    }
   ],
   "source": [
    "a.update([50, 60]) #여러개 추가하고 싶을 때\n",
    "a"
   ]
  },
  {
   "cell_type": "markdown",
   "id": "7c36e04b",
   "metadata": {},
   "source": [
    "-----"
   ]
  },
  {
   "cell_type": "markdown",
   "id": "429006a4",
   "metadata": {},
   "source": [
    "- remove( 값 )"
   ]
  },
  {
   "cell_type": "code",
   "execution_count": 101,
   "id": "07360667",
   "metadata": {},
   "outputs": [
    {
     "data": {
      "text/plain": [
       "{10, 20, 30, 50, 60}"
      ]
     },
     "execution_count": 101,
     "metadata": {},
     "output_type": "execute_result"
    }
   ],
   "source": [
    "a.remove(40)\n",
    "a"
   ]
  },
  {
   "cell_type": "markdown",
   "id": "216813b7",
   "metadata": {},
   "source": [
    "-----"
   ]
  },
  {
   "cell_type": "markdown",
   "id": "ec0dc7f5",
   "metadata": {},
   "source": [
    "# 리스트 내포"
   ]
  },
  {
   "cell_type": "code",
   "execution_count": 23,
   "id": "a6b077dc",
   "metadata": {},
   "outputs": [
    {
     "data": {
      "text/plain": [
       "[-20, -10, 0, 10, 20]"
      ]
     },
     "execution_count": 23,
     "metadata": {},
     "output_type": "execute_result"
    }
   ],
   "source": [
    "list1 = [-20, -10, 0, 10, 20]\n",
    "[x for x in list1]"
   ]
  },
  {
   "cell_type": "code",
   "execution_count": 103,
   "id": "f1218d9b",
   "metadata": {},
   "outputs": [
    {
     "data": {
      "text/plain": [
       "[-4.0, -2.0, 0.0, 2.0, 4.0]"
      ]
     },
     "execution_count": 103,
     "metadata": {},
     "output_type": "execute_result"
    }
   ],
   "source": [
    "[x / 5 for x in list1]"
   ]
  },
  {
   "cell_type": "code",
   "execution_count": 104,
   "id": "a219889d",
   "metadata": {},
   "outputs": [
    {
     "data": {
      "text/plain": [
       "[400, 100, 0, 100, 400]"
      ]
     },
     "execution_count": 104,
     "metadata": {},
     "output_type": "execute_result"
    }
   ],
   "source": [
    "[x ** 2 for x in list1]"
   ]
  },
  {
   "cell_type": "code",
   "execution_count": 105,
   "id": "f3763ee4",
   "metadata": {},
   "outputs": [
    {
     "ename": "ZeroDivisionError",
     "evalue": "division by zero",
     "output_type": "error",
     "traceback": [
      "\u001b[0;31m---------------------------------------------------------------------------\u001b[0m",
      "\u001b[0;31mZeroDivisionError\u001b[0m                         Traceback (most recent call last)",
      "\u001b[0;32m<ipython-input-105-fe19545d1418>\u001b[0m in \u001b[0;36m<module>\u001b[0;34m\u001b[0m\n\u001b[0;32m----> 1\u001b[0;31m \u001b[0;34m[\u001b[0m\u001b[0;36m1\u001b[0m \u001b[0;34m/\u001b[0m \u001b[0mx\u001b[0m \u001b[0;32mfor\u001b[0m \u001b[0mx\u001b[0m \u001b[0;32min\u001b[0m \u001b[0mlist1\u001b[0m\u001b[0;34m]\u001b[0m\u001b[0;34m\u001b[0m\u001b[0;34m\u001b[0m\u001b[0m\n\u001b[0m",
      "\u001b[0;32m<ipython-input-105-fe19545d1418>\u001b[0m in \u001b[0;36m<listcomp>\u001b[0;34m(.0)\u001b[0m\n\u001b[0;32m----> 1\u001b[0;31m \u001b[0;34m[\u001b[0m\u001b[0;36m1\u001b[0m \u001b[0;34m/\u001b[0m \u001b[0mx\u001b[0m \u001b[0;32mfor\u001b[0m \u001b[0mx\u001b[0m \u001b[0;32min\u001b[0m \u001b[0mlist1\u001b[0m\u001b[0;34m]\u001b[0m\u001b[0;34m\u001b[0m\u001b[0;34m\u001b[0m\u001b[0m\n\u001b[0m",
      "\u001b[0;31mZeroDivisionError\u001b[0m: division by zero"
     ]
    }
   ],
   "source": [
    "[1 / x for x in list1]"
   ]
  },
  {
   "cell_type": "code",
   "execution_count": 106,
   "id": "fe52802d",
   "metadata": {},
   "outputs": [
    {
     "data": {
      "text/plain": [
       "[-0.05, -0.1, 0.1, 0.05]"
      ]
     },
     "execution_count": 106,
     "metadata": {},
     "output_type": "execute_result"
    }
   ],
   "source": [
    "[1 / x for x in list1 if x != 0]"
   ]
  },
  {
   "cell_type": "code",
   "execution_count": 107,
   "id": "37f929f2",
   "metadata": {},
   "outputs": [
    {
     "data": {
      "text/plain": [
       "[0, 3, 6]"
      ]
     },
     "execution_count": 107,
     "metadata": {},
     "output_type": "execute_result"
    }
   ],
   "source": [
    "[x * 3 for x in range(3)]"
   ]
  },
  {
   "cell_type": "code",
   "execution_count": 109,
   "id": "f0d0ee08",
   "metadata": {},
   "outputs": [
    {
     "data": {
      "text/plain": [
       "[0, 6, 12, 18, 24]"
      ]
     },
     "execution_count": 109,
     "metadata": {},
     "output_type": "execute_result"
    }
   ],
   "source": [
    "[x * 3 for x in range(10) if x % 2 == 0]"
   ]
  },
  {
   "cell_type": "code",
   "execution_count": 110,
   "id": "69faedfc",
   "metadata": {},
   "outputs": [
    {
     "data": {
      "text/plain": [
       "'A'"
      ]
     },
     "execution_count": 110,
     "metadata": {},
     "output_type": "execute_result"
    }
   ],
   "source": [
    "chr(65) #65 : 유니코드 값"
   ]
  },
  {
   "cell_type": "code",
   "execution_count": 111,
   "id": "7d7143f6",
   "metadata": {},
   "outputs": [
    {
     "data": {
      "text/plain": [
       "'b'"
      ]
     },
     "execution_count": 111,
     "metadata": {},
     "output_type": "execute_result"
    }
   ],
   "source": [
    "chr(98)"
   ]
  },
  {
   "cell_type": "code",
   "execution_count": 112,
   "id": "7877e837",
   "metadata": {},
   "outputs": [
    {
     "data": {
      "text/plain": [
       "['a',\n",
       " 'b',\n",
       " 'c',\n",
       " 'd',\n",
       " 'e',\n",
       " 'f',\n",
       " 'g',\n",
       " 'h',\n",
       " 'i',\n",
       " 'j',\n",
       " 'k',\n",
       " 'l',\n",
       " 'm',\n",
       " 'n',\n",
       " 'o',\n",
       " 'p',\n",
       " 'q',\n",
       " 'r',\n",
       " 's',\n",
       " 't',\n",
       " 'u',\n",
       " 'v',\n",
       " 'w',\n",
       " 'x',\n",
       " 'y',\n",
       " 'z']"
      ]
     },
     "execution_count": 112,
     "metadata": {},
     "output_type": "execute_result"
    }
   ],
   "source": [
    "alpha = [chr(n) for n in range(97, 97+26)]\n",
    "alpha"
   ]
  },
  {
   "cell_type": "code",
   "execution_count": 113,
   "id": "0aa5284d",
   "metadata": {},
   "outputs": [
    {
     "data": {
      "text/plain": [
       "['a',\n",
       " 'b',\n",
       " 'c',\n",
       " 'd',\n",
       " 'e',\n",
       " 'f',\n",
       " 'g',\n",
       " 'h',\n",
       " 'i',\n",
       " 'j',\n",
       " 'k',\n",
       " 'l',\n",
       " 'm',\n",
       " 'n',\n",
       " 'o',\n",
       " 'p',\n",
       " 'q',\n",
       " 'r',\n",
       " 's',\n",
       " 't',\n",
       " 'u',\n",
       " 'v',\n",
       " 'w',\n",
       " 'x',\n",
       " 'y',\n",
       " 'z']"
      ]
     },
     "execution_count": 113,
     "metadata": {},
     "output_type": "execute_result"
    }
   ],
   "source": [
    "alpha = []\n",
    "for n in range(97, 97+26):\n",
    "    alpha.append(chr(n))\n",
    "alpha"
   ]
  },
  {
   "cell_type": "markdown",
   "id": "31b09ecb",
   "metadata": {},
   "source": [
    "for문 보다 리스트 내포를 사용하는 것이 복잡한 코드 작성에서 시간을 절약할 수 있음"
   ]
  },
  {
   "cell_type": "markdown",
   "id": "600b0f69",
   "metadata": {},
   "source": [
    "# 정규 표현식"
   ]
  },
  {
   "cell_type": "code",
   "execution_count": 27,
   "id": "9fbcec7c",
   "metadata": {},
   "outputs": [],
   "source": [
    "import re"
   ]
  },
  {
   "cell_type": "markdown",
   "id": "49bd8b1a",
   "metadata": {},
   "source": [
    "----"
   ]
  },
  {
   "cell_type": "markdown",
   "id": "66d5cc02",
   "metadata": {},
   "source": [
    "### 문자열 패턴 매칭"
   ]
  },
  {
   "cell_type": "markdown",
   "id": "dec59c18",
   "metadata": {},
   "source": [
    "- re.match( ) 함수 : 문자열 처음부터 매칭 문법\n",
    "- re.search( ) 함수 : 문자열 일부분 매칭 문법"
   ]
  },
  {
   "cell_type": "code",
   "execution_count": 115,
   "id": "76e66549",
   "metadata": {},
   "outputs": [
    {
     "data": {
      "text/plain": [
       "<re.Match object; span=(0, 5), match='Hello'>"
      ]
     },
     "execution_count": 115,
     "metadata": {},
     "output_type": "execute_result"
    }
   ],
   "source": [
    "re.match('Hello', 'Hello, World!') #span = (0, 5) : 시작과 끝+1의 위치"
   ]
  },
  {
   "cell_type": "code",
   "execution_count": 116,
   "id": "da73e802",
   "metadata": {},
   "outputs": [],
   "source": [
    "re.match('Python', 'Hello, World!')"
   ]
  },
  {
   "cell_type": "markdown",
   "id": "69abd8ae",
   "metadata": {},
   "source": [
    "----"
   ]
  },
  {
   "cell_type": "markdown",
   "id": "24ec453b",
   "metadata": {},
   "source": [
    "### 메타문자"
   ]
  },
  {
   "cell_type": "code",
   "execution_count": 118,
   "id": "7d644cf4",
   "metadata": {},
   "outputs": [
    {
     "data": {
      "text/plain": [
       "<re.Match object; span=(0, 5), match='Hello'>"
      ]
     },
     "execution_count": 118,
     "metadata": {},
     "output_type": "execute_result"
    }
   ],
   "source": [
    "re.search('^Hello', 'Hello, World!')"
   ]
  },
  {
   "cell_type": "code",
   "execution_count": 120,
   "id": "4a575fe3",
   "metadata": {},
   "outputs": [
    {
     "data": {
      "text/plain": [
       "<re.Match object; span=(7, 13), match='World!'>"
      ]
     },
     "execution_count": 120,
     "metadata": {},
     "output_type": "execute_result"
    }
   ],
   "source": [
    "re.search('World!$', 'Hello, World!')"
   ]
  },
  {
   "cell_type": "code",
   "execution_count": 121,
   "id": "2d62da2b",
   "metadata": {},
   "outputs": [
    {
     "data": {
      "text/plain": [
       "<re.Match object; span=(0, 5), match='hello'>"
      ]
     },
     "execution_count": 121,
     "metadata": {},
     "output_type": "execute_result"
    }
   ],
   "source": [
    "re.match('hello|world|python', 'hello')"
   ]
  },
  {
   "cell_type": "code",
   "execution_count": 122,
   "id": "6391a05f",
   "metadata": {},
   "outputs": [
    {
     "data": {
      "text/plain": [
       "<re.Match object; span=(0, 4), match='1234'>"
      ]
     },
     "execution_count": 122,
     "metadata": {},
     "output_type": "execute_result"
    }
   ],
   "source": [
    "re.match('[0-9]*', '1234') #0부터 9까지 0개 이상 존재하는 표현"
   ]
  },
  {
   "cell_type": "code",
   "execution_count": 123,
   "id": "e28ee2a0",
   "metadata": {},
   "outputs": [
    {
     "data": {
      "text/plain": [
       "<re.Match object; span=(0, 4), match='1234'>"
      ]
     },
     "execution_count": 123,
     "metadata": {},
     "output_type": "execute_result"
    }
   ],
   "source": [
    "re.match('[0-9]+', '1234') #0부터 9까지 1개 이상 존재하는 표현"
   ]
  },
  {
   "cell_type": "code",
   "execution_count": 124,
   "id": "30b9a0c5",
   "metadata": {},
   "outputs": [
    {
     "data": {
      "text/plain": [
       "<re.Match object; span=(0, 0), match=''>"
      ]
     },
     "execution_count": 124,
     "metadata": {},
     "output_type": "execute_result"
    }
   ],
   "source": [
    "re.match('[0-9]*', 'abc')"
   ]
  },
  {
   "cell_type": "code",
   "execution_count": 125,
   "id": "db878f8f",
   "metadata": {},
   "outputs": [],
   "source": [
    "re.match('[0-9]+', 'abc')"
   ]
  },
  {
   "cell_type": "code",
   "execution_count": 126,
   "id": "0e6ce88f",
   "metadata": {},
   "outputs": [
    {
     "data": {
      "text/plain": [
       "<re.Match object; span=(0, 1), match='b'>"
      ]
     },
     "execution_count": 126,
     "metadata": {},
     "output_type": "execute_result"
    }
   ],
   "source": [
    "re.match('a*b', 'b')"
   ]
  },
  {
   "cell_type": "code",
   "execution_count": 127,
   "id": "cb4b6138",
   "metadata": {},
   "outputs": [],
   "source": [
    "re.match('a+b', 'b')"
   ]
  },
  {
   "cell_type": "code",
   "execution_count": 128,
   "id": "b8b30f35",
   "metadata": {},
   "outputs": [
    {
     "data": {
      "text/plain": [
       "<re.Match object; span=(0, 3), match='aab'>"
      ]
     },
     "execution_count": 128,
     "metadata": {},
     "output_type": "execute_result"
    }
   ],
   "source": [
    "re.match('a*b', 'aab')"
   ]
  },
  {
   "cell_type": "code",
   "execution_count": 129,
   "id": "56737f86",
   "metadata": {},
   "outputs": [
    {
     "data": {
      "text/plain": [
       "<re.Match object; span=(0, 3), match='aab'>"
      ]
     },
     "execution_count": 129,
     "metadata": {},
     "output_type": "execute_result"
    }
   ],
   "source": [
    "re.match('a+b', 'aab')"
   ]
  },
  {
   "cell_type": "code",
   "execution_count": 130,
   "id": "5d959052",
   "metadata": {},
   "outputs": [
    {
     "data": {
      "text/plain": [
       "<re.Match object; span=(0, 3), match='abd'>"
      ]
     },
     "execution_count": 130,
     "metadata": {},
     "output_type": "execute_result"
    }
   ],
   "source": [
    "re.match('abc?d', 'abd') #? : 앞 패턴이 없거나 하나만 허용"
   ]
  },
  {
   "cell_type": "code",
   "execution_count": 131,
   "id": "66d016a5",
   "metadata": {},
   "outputs": [
    {
     "data": {
      "text/plain": [
       "<re.Match object; span=(0, 3), match='abd'>"
      ]
     },
     "execution_count": 131,
     "metadata": {},
     "output_type": "execute_result"
    }
   ],
   "source": [
    "re.match('ab[0-9]?d', 'abd')"
   ]
  },
  {
   "cell_type": "code",
   "execution_count": 132,
   "id": "a85a6ff5",
   "metadata": {},
   "outputs": [
    {
     "data": {
      "text/plain": [
       "<re.Match object; span=(0, 4), match='ab3d'>"
      ]
     },
     "execution_count": 132,
     "metadata": {},
     "output_type": "execute_result"
    }
   ],
   "source": [
    "re.match('ab[0-9]?d', 'ab3d')"
   ]
  },
  {
   "cell_type": "code",
   "execution_count": 133,
   "id": "1a676f80",
   "metadata": {},
   "outputs": [],
   "source": [
    "re.match('ab[0-9]?d', 'ab33d')"
   ]
  },
  {
   "cell_type": "code",
   "execution_count": 134,
   "id": "f0d905d5",
   "metadata": {},
   "outputs": [],
   "source": [
    "re.match('ab.d', 'abd') # . : 줄바꿈(\\n)을 제외한 모든 문자"
   ]
  },
  {
   "cell_type": "code",
   "execution_count": 135,
   "id": "d080d08b",
   "metadata": {},
   "outputs": [
    {
     "data": {
      "text/plain": [
       "<re.Match object; span=(0, 4), match='abxd'>"
      ]
     },
     "execution_count": 135,
     "metadata": {},
     "output_type": "execute_result"
    }
   ],
   "source": [
    "re.match('ab.d', 'abxd')"
   ]
  },
  {
   "cell_type": "code",
   "execution_count": 136,
   "id": "d07afe4d",
   "metadata": {},
   "outputs": [
    {
     "data": {
      "text/plain": [
       "<re.Match object; span=(0, 3), match='hhh'>"
      ]
     },
     "execution_count": 136,
     "metadata": {},
     "output_type": "execute_result"
    }
   ],
   "source": [
    "re.match('h{3}', 'hhhello') # a{3} : a가 연속 3번 나타나는 패턴"
   ]
  },
  {
   "cell_type": "code",
   "execution_count": 137,
   "id": "2ff775fa",
   "metadata": {},
   "outputs": [
    {
     "data": {
      "text/plain": [
       "<re.Match object; span=(0, 15), match='hellohellohello'>"
      ]
     },
     "execution_count": 137,
     "metadata": {},
     "output_type": "execute_result"
    }
   ],
   "source": [
    "re.match('(hello){3}', 'hellohellohelloworld')"
   ]
  },
  {
   "cell_type": "code",
   "execution_count": 138,
   "id": "314791be",
   "metadata": {},
   "outputs": [
    {
     "data": {
      "text/plain": [
       "<re.Match object; span=(0, 13), match='010-0000-0000'>"
      ]
     },
     "execution_count": 138,
     "metadata": {},
     "output_type": "execute_result"
    }
   ],
   "source": [
    "re.match('[0-9]{3}-[0-9]{4}-[0-9]{4}', '010-0000-0000')"
   ]
  },
  {
   "cell_type": "code",
   "execution_count": 139,
   "id": "59959b9d",
   "metadata": {},
   "outputs": [],
   "source": [
    "re.match('010-[0-9]{4}-[0-9]{4}', '011-0000-0000')"
   ]
  },
  {
   "cell_type": "code",
   "execution_count": 141,
   "id": "9d881b6e",
   "metadata": {},
   "outputs": [
    {
     "data": {
      "text/plain": [
       "<re.Match object; span=(0, 11), match='02-000-0000'>"
      ]
     },
     "execution_count": 141,
     "metadata": {},
     "output_type": "execute_result"
    }
   ],
   "source": [
    "re.match('[0-9]{2,3}-[0-9]{3,4}-[0-9]{4}', '02-000-0000') # a{2, 3} : a가 2번,3번 나타나는 패턴"
   ]
  },
  {
   "cell_type": "code",
   "execution_count": 142,
   "id": "a258f919",
   "metadata": {},
   "outputs": [],
   "source": [
    "re.match('[0-9]{2,3}-[0-9]{3,4}-[0-9]{4}', '02-00-0000')"
   ]
  },
  {
   "cell_type": "code",
   "execution_count": 143,
   "id": "c0359c42",
   "metadata": {},
   "outputs": [
    {
     "data": {
      "text/plain": [
       "<re.Match object; span=(0, 13), match='031-0000-0000'>"
      ]
     },
     "execution_count": 143,
     "metadata": {},
     "output_type": "execute_result"
    }
   ],
   "source": [
    "re.match('[0-9]{2,3}-[0-9]{3,4}-[0-9]{4}', '031-0000-0000')"
   ]
  },
  {
   "cell_type": "code",
   "execution_count": 144,
   "id": "a6150e6d",
   "metadata": {},
   "outputs": [
    {
     "data": {
      "text/plain": [
       "<re.Match object; span=(0, 5), match='Hello'>"
      ]
     },
     "execution_count": 144,
     "metadata": {},
     "output_type": "execute_result"
    }
   ],
   "source": [
    "re.match('[a-zA-Z]+', 'Hello1234')\n",
    "# [a-zA-Z] : 대소문자를 포함한 영문자\n",
    "# [a-zA-Z0-9] : 영문자와 숫자"
   ]
  },
  {
   "cell_type": "code",
   "execution_count": 145,
   "id": "7374b705",
   "metadata": {},
   "outputs": [
    {
     "data": {
      "text/plain": [
       "<re.Match object; span=(0, 1), match='H'>"
      ]
     },
     "execution_count": 145,
     "metadata": {},
     "output_type": "execute_result"
    }
   ],
   "source": [
    "re.match('[A-Z]+', 'Hello1234')"
   ]
  },
  {
   "cell_type": "code",
   "execution_count": 146,
   "id": "11fced27",
   "metadata": {},
   "outputs": [
    {
     "data": {
      "text/plain": [
       "<re.Match object; span=(0, 3), match='홍길동'>"
      ]
     },
     "execution_count": 146,
     "metadata": {},
     "output_type": "execute_result"
    }
   ],
   "source": [
    "re.match('[가-힣]+', '홍길동') # [가-힣]+ : 한글 전부다"
   ]
  },
  {
   "cell_type": "code",
   "execution_count": 147,
   "id": "9c98b5cd",
   "metadata": {},
   "outputs": [
    {
     "data": {
      "text/plain": [
       "<re.Match object; span=(0, 5), match='hello'>"
      ]
     },
     "execution_count": 147,
     "metadata": {},
     "output_type": "execute_result"
    }
   ],
   "source": [
    "re.match('[^A-Z]+', 'hello')"
   ]
  },
  {
   "cell_type": "code",
   "execution_count": 149,
   "id": "d38f19d5",
   "metadata": {},
   "outputs": [
    {
     "data": {
      "text/plain": [
       "<re.Match object; span=(0, 6), match='1hello'>"
      ]
     },
     "execution_count": 149,
     "metadata": {},
     "output_type": "execute_result"
    }
   ],
   "source": [
    "re.match('[^A-Z]+', '1hello')"
   ]
  },
  {
   "cell_type": "code",
   "execution_count": 148,
   "id": "ce6bbac0",
   "metadata": {},
   "outputs": [],
   "source": [
    "re.match('[^A-Z]+', 'Hello') #match이기 때문에 처음부터 대문자여서 결과가 나오지 않음"
   ]
  },
  {
   "cell_type": "code",
   "execution_count": 28,
   "id": "76b69b92",
   "metadata": {},
   "outputs": [
    {
     "data": {
      "text/plain": [
       "<re.Match object; span=(1, 5), match='ello'>"
      ]
     },
     "execution_count": 28,
     "metadata": {},
     "output_type": "execute_result"
    }
   ],
   "source": [
    "re.search('[^A-Z]+', 'Hello')"
   ]
  },
  {
   "cell_type": "code",
   "execution_count": 150,
   "id": "7a8193f9",
   "metadata": {},
   "outputs": [
    {
     "data": {
      "text/plain": [
       "<re.Match object; span=(2, 4), match='**'>"
      ]
     },
     "execution_count": 150,
     "metadata": {},
     "output_type": "execute_result"
    }
   ],
   "source": [
    "re.search('\\*+', '1 ** 2') # \\*+ : 특수문자가 있는지 없는지"
   ]
  },
  {
   "cell_type": "code",
   "execution_count": 151,
   "id": "1284e11e",
   "metadata": {},
   "outputs": [
    {
     "data": {
      "text/plain": [
       "<re.Match object; span=(0, 1), match='$'>"
      ]
     },
     "execution_count": 151,
     "metadata": {},
     "output_type": "execute_result"
    }
   ],
   "source": [
    "re.match('[$()a-zA-Z0-9]', '$(document)')"
   ]
  },
  {
   "cell_type": "code",
   "execution_count": 153,
   "id": "a3be8581",
   "metadata": {},
   "outputs": [
    {
     "data": {
      "text/plain": [
       "<re.Match object; span=(0, 4), match='1234'>"
      ]
     },
     "execution_count": 153,
     "metadata": {},
     "output_type": "execute_result"
    }
   ],
   "source": [
    "re.match('\\d+', '1234') # \\d : 숫자 0~9"
   ]
  },
  {
   "cell_type": "code",
   "execution_count": 154,
   "id": "d8043102",
   "metadata": {},
   "outputs": [
    {
     "data": {
      "text/plain": [
       "<re.Match object; span=(0, 5), match='Hello'>"
      ]
     },
     "execution_count": 154,
     "metadata": {},
     "output_type": "execute_result"
    }
   ],
   "source": [
    "re.match('\\D+', 'Hello') # \\D : 숫자를 제외한 모든 문자"
   ]
  },
  {
   "cell_type": "code",
   "execution_count": 155,
   "id": "2caab379",
   "metadata": {},
   "outputs": [
    {
     "data": {
      "text/plain": [
       "<re.Match object; span=(0, 10), match='Hello_1234'>"
      ]
     },
     "execution_count": 155,
     "metadata": {},
     "output_type": "execute_result"
    }
   ],
   "source": [
    "re.match('\\w+', 'Hello_1234') # \\w : 문자(소문자,대문자,밑줄문자,숫자)"
   ]
  },
  {
   "cell_type": "code",
   "execution_count": 156,
   "id": "30f88e9d",
   "metadata": {},
   "outputs": [
    {
     "data": {
      "text/plain": [
       "<re.Match object; span=(0, 3), match='(:)'>"
      ]
     },
     "execution_count": 156,
     "metadata": {},
     "output_type": "execute_result"
    }
   ],
   "source": [
    "re.match('\\W+', '(:)') # \\W : 특수문자만"
   ]
  },
  {
   "cell_type": "code",
   "execution_count": 157,
   "id": "f60dbe54",
   "metadata": {},
   "outputs": [
    {
     "data": {
      "text/plain": [
       "<re.Match object; span=(0, 10), match='Hello 1234'>"
      ]
     },
     "execution_count": 157,
     "metadata": {},
     "output_type": "execute_result"
    }
   ],
   "source": [
    "re.match('[a-zA-Z0-9 ]+', 'Hello 1234')"
   ]
  },
  {
   "cell_type": "code",
   "execution_count": 158,
   "id": "f411d750",
   "metadata": {},
   "outputs": [
    {
     "data": {
      "text/plain": [
       "<re.Match object; span=(0, 5), match='Hello'>"
      ]
     },
     "execution_count": 158,
     "metadata": {},
     "output_type": "execute_result"
    }
   ],
   "source": [
    "re.match('[a-zA-Z0-9]+', 'Hello 1234')"
   ]
  },
  {
   "cell_type": "code",
   "execution_count": 159,
   "id": "9817b81b",
   "metadata": {},
   "outputs": [
    {
     "data": {
      "text/plain": [
       "<re.Match object; span=(0, 10), match='Hello 1234'>"
      ]
     },
     "execution_count": 159,
     "metadata": {},
     "output_type": "execute_result"
    }
   ],
   "source": [
    "re.match('[a-zA-Z0-9\\s]+', 'Hello 1234') #\\s : 공백"
   ]
  },
  {
   "cell_type": "markdown",
   "id": "89dc1642",
   "metadata": {},
   "source": [
    "---"
   ]
  },
  {
   "cell_type": "markdown",
   "id": "183d690f",
   "metadata": {},
   "source": [
    "### re.compile( ) \n",
    "re.compile( ) 함수를 이용하여 자주 사용하는 정규표현식을 객체로 만들기"
   ]
  },
  {
   "cell_type": "code",
   "execution_count": 165,
   "id": "4ac67223",
   "metadata": {},
   "outputs": [],
   "source": [
    "p = re.compile('[0-9]+')"
   ]
  },
  {
   "cell_type": "code",
   "execution_count": 166,
   "id": "fd470282",
   "metadata": {},
   "outputs": [
    {
     "data": {
      "text/plain": [
       "<re.Match object; span=(0, 4), match='1234'>"
      ]
     },
     "execution_count": 166,
     "metadata": {},
     "output_type": "execute_result"
    }
   ],
   "source": [
    "p.match('1234')"
   ]
  },
  {
   "cell_type": "code",
   "execution_count": 167,
   "id": "281464cc",
   "metadata": {},
   "outputs": [
    {
     "data": {
      "text/plain": [
       "<re.Match object; span=(5, 6), match='1'>"
      ]
     },
     "execution_count": 167,
     "metadata": {},
     "output_type": "execute_result"
    }
   ],
   "source": [
    "p.search('hello1')"
   ]
  },
  {
   "cell_type": "markdown",
   "id": "9f13a61d",
   "metadata": {},
   "source": [
    "### .group( ) 함수를 이용하여 결과 값을 객체에 저장하기"
   ]
  },
  {
   "cell_type": "code",
   "execution_count": 168,
   "id": "d4a72778",
   "metadata": {},
   "outputs": [],
   "source": [
    "text = 'Hello World'"
   ]
  },
  {
   "cell_type": "code",
   "execution_count": 169,
   "id": "70ba48b0",
   "metadata": {},
   "outputs": [],
   "source": [
    "x = re.match('^[A-Za-z]{2}', text).group()"
   ]
  },
  {
   "cell_type": "code",
   "execution_count": 170,
   "id": "935923ba",
   "metadata": {},
   "outputs": [
    {
     "data": {
      "text/plain": [
       "'He'"
      ]
     },
     "execution_count": 170,
     "metadata": {},
     "output_type": "execute_result"
    }
   ],
   "source": [
    "x"
   ]
  },
  {
   "cell_type": "code",
   "execution_count": 171,
   "id": "ce7ccddf",
   "metadata": {},
   "outputs": [
    {
     "data": {
      "text/plain": [
       "<re.Match object; span=(0, 2), match='He'>"
      ]
     },
     "execution_count": 171,
     "metadata": {},
     "output_type": "execute_result"
    }
   ],
   "source": [
    "x = re.match('^[A-Za-z]{2}', text)\n",
    "x"
   ]
  },
  {
   "cell_type": "code",
   "execution_count": 172,
   "id": "1d49f395",
   "metadata": {},
   "outputs": [
    {
     "data": {
      "text/plain": [
       "'He'"
      ]
     },
     "execution_count": 172,
     "metadata": {},
     "output_type": "execute_result"
    }
   ],
   "source": [
    "x.group()"
   ]
  },
  {
   "cell_type": "code",
   "execution_count": 173,
   "id": "34153ca8",
   "metadata": {},
   "outputs": [
    {
     "data": {
      "text/plain": [
       "['Hello', 'World']"
      ]
     },
     "execution_count": 173,
     "metadata": {},
     "output_type": "execute_result"
    }
   ],
   "source": [
    "re.findall('[A-Za-z]{2,}', text) # findall : 모든단어찾기 / {2,} : 두개 이상"
   ]
  }
 ],
 "metadata": {
  "kernelspec": {
   "display_name": "Python 3",
   "language": "python",
   "name": "python3"
  },
  "language_info": {
   "codemirror_mode": {
    "name": "ipython",
    "version": 3
   },
   "file_extension": ".py",
   "mimetype": "text/x-python",
   "name": "python",
   "nbconvert_exporter": "python",
   "pygments_lexer": "ipython3",
   "version": "3.8.8"
  },
  "toc": {
   "base_numbering": 1,
   "nav_menu": {},
   "number_sections": true,
   "sideBar": true,
   "skip_h1_title": false,
   "title_cell": "Table of Contents",
   "title_sidebar": "Contents",
   "toc_cell": false,
   "toc_position": {
    "height": "calc(100% - 180px)",
    "left": "10px",
    "top": "150px",
    "width": "256px"
   },
   "toc_section_display": true,
   "toc_window_display": false
  },
  "vscode": {
   "interpreter": {
    "hash": "76bb3687f887ea2c789456677de17e5fe1c8191039e01573c5d28a46e47a4e8b"
   }
  }
 },
 "nbformat": 4,
 "nbformat_minor": 5
}
