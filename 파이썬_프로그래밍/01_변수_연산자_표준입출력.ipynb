{
 "cells": [
  {
   "cell_type": "markdown",
   "id": "356a1392",
   "metadata": {},
   "source": [
    "# Header\n",
    "## Header\n",
    "### Header"
   ]
  },
  {
   "cell_type": "markdown",
   "id": "d7401c3a",
   "metadata": {},
   "source": [
    "> 문장 1\n",
    ">> 문장 2"
   ]
  },
  {
   "cell_type": "markdown",
   "id": "c214f003",
   "metadata": {},
   "source": [
    "1. 첫번째\n",
    "2. 두번째\n",
    "3. 세번째\n",
    "* 별표\n",
    "+ 플러스\n",
    "    - 마이너스"
   ]
  },
  {
   "cell_type": "markdown",
   "id": "ae6d5219",
   "metadata": {},
   "source": [
    "문장 탭공백"
   ]
  },
  {
   "cell_type": "markdown",
   "id": "ea28d975",
   "metadata": {},
   "source": [
    "***\n",
    "---\n",
    "<hr>"
   ]
  },
  {
   "cell_type": "markdown",
   "id": "a96bcc20",
   "metadata": {},
   "source": [
    "<span style=\"color:red\">빨간글씨</span>"
   ]
  },
  {
   "cell_type": "markdown",
   "id": "c9dedd77",
   "metadata": {},
   "source": [
    "[네이버](http://naver.com)"
   ]
  },
  {
   "cell_type": "markdown",
   "id": "fc4d2d32",
   "metadata": {},
   "source": [
    "$y = 3x$\n",
    "$$\\sqrt[3]{x^3 + y^3 \\over 2}$$\n",
    "\n",
    "$ : 왼쪽 정렬\n",
    "\n",
    "$$ : 가운데 정렬"
   ]
  },
  {
   "attachments": {},
   "cell_type": "markdown",
   "id": "cf4253cc",
   "metadata": {
    "scrolled": true
   },
   "source": [
    "!pip install jupyterthemes"
   ]
  },
  {
   "cell_type": "code",
   "execution_count": 3,
   "id": "da48f590",
   "metadata": {},
   "outputs": [
    {
     "name": "stdout",
     "output_type": "stream",
     "text": [
      "Available Themes: \r\n",
      "   chesterish\r\n",
      "   grade3\r\n",
      "   gruvboxd\r\n",
      "   gruvboxl\r\n",
      "   monokai\r\n",
      "   oceans16\r\n",
      "   onedork\r\n",
      "   solarizedd\r\n",
      "   solarizedl\r\n"
     ]
    }
   ],
   "source": [
    "!jt -l"
   ]
  },
  {
   "cell_type": "markdown",
   "id": "356a5a2c",
   "metadata": {
    "ExecuteTime": {
     "end_time": "2023-01-02T06:24:58.667567Z",
     "start_time": "2023-01-02T06:24:56.560525Z"
    }
   },
   "source": [
    "!jt -t onedork -T"
   ]
  },
  {
   "cell_type": "markdown",
   "id": "dfadd50b",
   "metadata": {
    "ExecuteTime": {
     "end_time": "2023-01-02T06:25:45.591958Z",
     "start_time": "2023-01-02T06:25:44.543248Z"
    }
   },
   "source": [
    "!jt -r #원래대로 돌리기"
   ]
  },
  {
   "attachments": {},
   "cell_type": "markdown",
   "id": "46d5153e",
   "metadata": {},
   "source": [
    "!pip install jupyter_contrib_nbextensions && jupyter contrib nbextension install --user"
   ]
  },
  {
   "cell_type": "markdown",
   "id": "57fb7c80",
   "metadata": {},
   "source": [
    "## 변수"
   ]
  },
  {
   "cell_type": "code",
   "execution_count": 1,
   "id": "b9ad9c5b",
   "metadata": {
    "ExecuteTime": {
     "end_time": "2023-01-02T05:55:42.283996Z",
     "start_time": "2023-01-02T05:55:42.277841Z"
    }
   },
   "outputs": [
    {
     "name": "stdout",
     "output_type": "stream",
     "text": [
      "100\n"
     ]
    }
   ],
   "source": [
    "x = 100\n",
    "print(x)"
   ]
  },
  {
   "cell_type": "code",
   "execution_count": 2,
   "id": "e5af0748",
   "metadata": {
    "ExecuteTime": {
     "end_time": "2023-01-02T05:56:00.291511Z",
     "start_time": "2023-01-02T05:56:00.282768Z"
    }
   },
   "outputs": [
    {
     "name": "stdout",
     "output_type": "stream",
     "text": [
      "200\n"
     ]
    }
   ],
   "source": [
    "x = 100\n",
    "x = 200\n",
    "print(x)"
   ]
  },
  {
   "cell_type": "code",
   "execution_count": 3,
   "id": "3df1cba5",
   "metadata": {
    "ExecuteTime": {
     "end_time": "2023-01-02T05:57:02.715507Z",
     "start_time": "2023-01-02T05:57:02.704422Z"
    }
   },
   "outputs": [
    {
     "name": "stdout",
     "output_type": "stream",
     "text": [
      "aaa seoul\n"
     ]
    }
   ],
   "source": [
    "name = 'aaa'\n",
    "addr = 'seoul'\n",
    "print(name, addr)"
   ]
  },
  {
   "cell_type": "code",
   "execution_count": 4,
   "id": "652a5d31",
   "metadata": {
    "ExecuteTime": {
     "end_time": "2023-01-02T05:57:14.534713Z",
     "start_time": "2023-01-02T05:57:14.509225Z"
    }
   },
   "outputs": [
    {
     "ename": "NameError",
     "evalue": "name 'a' is not defined",
     "output_type": "error",
     "traceback": [
      "\u001b[0;31m---------------------------------------------------------------------------\u001b[0m",
      "\u001b[0;31mNameError\u001b[0m                                 Traceback (most recent call last)",
      "\u001b[0;32m<ipython-input-4-5d653af8e269>\u001b[0m in \u001b[0;36m<module>\u001b[0;34m\u001b[0m\n\u001b[0;32m----> 1\u001b[0;31m \u001b[0ma\u001b[0m \u001b[0;34m=\u001b[0m \u001b[0ma\u001b[0m \u001b[0;34m+\u001b[0m \u001b[0;36m1\u001b[0m\u001b[0;34m\u001b[0m\u001b[0;34m\u001b[0m\u001b[0m\n\u001b[0m",
      "\u001b[0;31mNameError\u001b[0m: name 'a' is not defined"
     ]
    }
   ],
   "source": [
    "a = a + 1"
   ]
  },
  {
   "cell_type": "code",
   "execution_count": 9,
   "id": "5a7f1f40",
   "metadata": {
    "ExecuteTime": {
     "end_time": "2023-01-02T05:58:04.335243Z",
     "start_time": "2023-01-02T05:58:04.295485Z"
    }
   },
   "outputs": [
    {
     "name": "stdout",
     "output_type": "stream",
     "text": [
      "Hello Python!\n"
     ]
    }
   ],
   "source": [
    "print('Hello Python!')"
   ]
  },
  {
   "cell_type": "code",
   "execution_count": 10,
   "id": "984a4c53",
   "metadata": {
    "ExecuteTime": {
     "end_time": "2023-01-02T05:58:49.257153Z",
     "start_time": "2023-01-02T05:58:49.249024Z"
    }
   },
   "outputs": [],
   "source": [
    "a = 'Hello Python!'"
   ]
  },
  {
   "cell_type": "code",
   "execution_count": 11,
   "id": "8e5722c8",
   "metadata": {
    "ExecuteTime": {
     "end_time": "2023-01-02T05:58:49.823315Z",
     "start_time": "2023-01-02T05:58:49.818929Z"
    }
   },
   "outputs": [
    {
     "name": "stdout",
     "output_type": "stream",
     "text": [
      "Hello Python!\n"
     ]
    }
   ],
   "source": [
    "print(a)"
   ]
  },
  {
   "cell_type": "markdown",
   "id": "5f9bcd14",
   "metadata": {},
   "source": [
    "### 변수 생성 및 규칙"
   ]
  },
  {
   "cell_type": "code",
   "execution_count": 12,
   "id": "54907ec2",
   "metadata": {
    "ExecuteTime": {
     "end_time": "2023-01-02T05:59:23.271573Z",
     "start_time": "2023-01-02T05:59:23.255894Z"
    }
   },
   "outputs": [
    {
     "ename": "SyntaxError",
     "evalue": "cannot assign to operator (<ipython-input-12-67af34f88ffa>, line 1)",
     "output_type": "error",
     "traceback": [
      "\u001b[0;36m  File \u001b[0;32m\"<ipython-input-12-67af34f88ffa>\"\u001b[0;36m, line \u001b[0;32m1\u001b[0m\n\u001b[0;31m    a-1 = 'aaa'\u001b[0m\n\u001b[0m    ^\u001b[0m\n\u001b[0;31mSyntaxError\u001b[0m\u001b[0;31m:\u001b[0m cannot assign to operator\n"
     ]
    }
   ],
   "source": [
    "a-1 = 'aaa'"
   ]
  },
  {
   "cell_type": "code",
   "execution_count": 13,
   "id": "9694fe47",
   "metadata": {
    "ExecuteTime": {
     "end_time": "2023-01-02T05:59:30.522380Z",
     "start_time": "2023-01-02T05:59:30.514945Z"
    }
   },
   "outputs": [],
   "source": [
    "a_1 = 'aaa'"
   ]
  },
  {
   "cell_type": "code",
   "execution_count": 14,
   "id": "ec42d2c1",
   "metadata": {
    "ExecuteTime": {
     "end_time": "2023-01-02T05:59:34.305510Z",
     "start_time": "2023-01-02T05:59:34.220952Z"
    }
   },
   "outputs": [
    {
     "data": {
      "text/plain": [
       "'aaa'"
      ]
     },
     "execution_count": 14,
     "metadata": {},
     "output_type": "execute_result"
    }
   ],
   "source": [
    "a_1"
   ]
  },
  {
   "cell_type": "code",
   "execution_count": 15,
   "id": "55f046aa",
   "metadata": {
    "ExecuteTime": {
     "end_time": "2023-01-02T06:00:15.149314Z",
     "start_time": "2023-01-02T06:00:15.137655Z"
    }
   },
   "outputs": [
    {
     "name": "stdout",
     "output_type": "stream",
     "text": [
      "['False', 'None', 'True', 'and', 'as', 'assert', 'async', 'await', 'break', 'class', 'continue', 'def', 'del', 'elif', 'else', 'except', 'finally', 'for', 'from', 'global', 'if', 'import', 'in', 'is', 'lambda', 'nonlocal', 'not', 'or', 'pass', 'raise', 'return', 'try', 'while', 'with', 'yield']\n"
     ]
    }
   ],
   "source": [
    "import keyword\n",
    "print(keyword.kwlist)"
   ]
  },
  {
   "cell_type": "markdown",
   "id": "c7ec2e5a",
   "metadata": {},
   "source": [
    "### 다양한 타입의 변수"
   ]
  },
  {
   "cell_type": "code",
   "execution_count": 16,
   "id": "d31f5ce7",
   "metadata": {
    "ExecuteTime": {
     "end_time": "2023-01-02T06:00:57.632768Z",
     "start_time": "2023-01-02T06:00:57.623053Z"
    }
   },
   "outputs": [
    {
     "data": {
      "text/plain": [
       "int"
      ]
     },
     "execution_count": 16,
     "metadata": {},
     "output_type": "execute_result"
    }
   ],
   "source": [
    "num = 100\n",
    "type(num)"
   ]
  },
  {
   "cell_type": "code",
   "execution_count": 17,
   "id": "cf72d5ab",
   "metadata": {
    "ExecuteTime": {
     "end_time": "2023-01-02T06:01:13.260161Z",
     "start_time": "2023-01-02T06:01:13.242325Z"
    }
   },
   "outputs": [
    {
     "data": {
      "text/plain": [
       "float"
      ]
     },
     "execution_count": 17,
     "metadata": {},
     "output_type": "execute_result"
    }
   ],
   "source": [
    "num = 95.5\n",
    "type(num)"
   ]
  },
  {
   "cell_type": "code",
   "execution_count": 18,
   "id": "e5cee112",
   "metadata": {
    "ExecuteTime": {
     "end_time": "2023-01-02T06:01:30.211501Z",
     "start_time": "2023-01-02T06:01:30.188101Z"
    }
   },
   "outputs": [
    {
     "data": {
      "text/plain": [
       "str"
      ]
     },
     "execution_count": 18,
     "metadata": {},
     "output_type": "execute_result"
    }
   ],
   "source": [
    "name = 'aaa'\n",
    "type(name)"
   ]
  },
  {
   "cell_type": "code",
   "execution_count": 19,
   "id": "aaff97ff",
   "metadata": {
    "ExecuteTime": {
     "end_time": "2023-01-02T06:01:51.095509Z",
     "start_time": "2023-01-02T06:01:51.069828Z"
    }
   },
   "outputs": [
    {
     "data": {
      "text/plain": [
       "bool"
      ]
     },
     "execution_count": 19,
     "metadata": {},
     "output_type": "execute_result"
    }
   ],
   "source": [
    "result = True\n",
    "type(result)"
   ]
  },
  {
   "cell_type": "markdown",
   "id": "26b9f6ff",
   "metadata": {},
   "source": [
    "## 연산자"
   ]
  },
  {
   "cell_type": "markdown",
   "id": "28f4b82a",
   "metadata": {},
   "source": [
    "### 산술 연산자"
   ]
  },
  {
   "cell_type": "code",
   "execution_count": 20,
   "id": "0a8d2502",
   "metadata": {
    "ExecuteTime": {
     "end_time": "2023-01-02T06:02:41.642443Z",
     "start_time": "2023-01-02T06:02:41.634542Z"
    }
   },
   "outputs": [
    {
     "name": "stdout",
     "output_type": "stream",
     "text": [
      "1000\n",
      "2\n"
     ]
    }
   ],
   "source": [
    "money = 1000\n",
    "print(money)\n",
    "print(money//500)"
   ]
  },
  {
   "cell_type": "code",
   "execution_count": 21,
   "id": "f3005baa",
   "metadata": {
    "ExecuteTime": {
     "end_time": "2023-01-02T06:12:56.804522Z",
     "start_time": "2023-01-02T06:12:56.793423Z"
    }
   },
   "outputs": [
    {
     "name": "stdout",
     "output_type": "stream",
     "text": [
      "100\n"
     ]
    }
   ],
   "source": [
    "money = 10000\n",
    "price = 150\n",
    "candy_nem = money // price\n",
    "change = money % price\n",
    "print(change)"
   ]
  },
  {
   "cell_type": "markdown",
   "id": "32e0d325",
   "metadata": {},
   "source": [
    "### 대입(할당) 연산자"
   ]
  },
  {
   "cell_type": "code",
   "execution_count": 22,
   "id": "70170fa1",
   "metadata": {
    "ExecuteTime": {
     "end_time": "2023-01-02T06:13:35.184413Z",
     "start_time": "2023-01-02T06:13:35.146021Z"
    }
   },
   "outputs": [
    {
     "name": "stdout",
     "output_type": "stream",
     "text": [
      "10\n"
     ]
    }
   ],
   "source": [
    "a = 10\n",
    "print(a)"
   ]
  },
  {
   "cell_type": "code",
   "execution_count": 23,
   "id": "73e7d0ca",
   "metadata": {
    "ExecuteTime": {
     "end_time": "2023-01-02T06:13:53.069271Z",
     "start_time": "2023-01-02T06:13:53.060967Z"
    }
   },
   "outputs": [
    {
     "name": "stdout",
     "output_type": "stream",
     "text": [
      "20\n"
     ]
    }
   ],
   "source": [
    "a += 10 #a = a + 10\n",
    "print(a)"
   ]
  },
  {
   "cell_type": "code",
   "execution_count": 24,
   "id": "4371f03c",
   "metadata": {
    "ExecuteTime": {
     "end_time": "2023-01-02T06:14:08.049851Z",
     "start_time": "2023-01-02T06:14:07.988076Z"
    }
   },
   "outputs": [
    {
     "name": "stdout",
     "output_type": "stream",
     "text": [
      "22\n"
     ]
    }
   ],
   "source": [
    "a += 2\n",
    "print(a)"
   ]
  },
  {
   "cell_type": "markdown",
   "id": "9225f1eb",
   "metadata": {},
   "source": [
    "### 비교 연산자"
   ]
  },
  {
   "cell_type": "code",
   "execution_count": 25,
   "id": "33d07e91",
   "metadata": {
    "ExecuteTime": {
     "end_time": "2023-01-02T06:14:48.400449Z",
     "start_time": "2023-01-02T06:14:48.362934Z"
    }
   },
   "outputs": [
    {
     "data": {
      "text/plain": [
       "True"
      ]
     },
     "execution_count": 25,
     "metadata": {},
     "output_type": "execute_result"
    }
   ],
   "source": [
    "10 == 10"
   ]
  },
  {
   "cell_type": "code",
   "execution_count": 26,
   "id": "476f2896",
   "metadata": {
    "ExecuteTime": {
     "end_time": "2023-01-02T06:15:00.208514Z",
     "start_time": "2023-01-02T06:15:00.172964Z"
    }
   },
   "outputs": [
    {
     "data": {
      "text/plain": [
       "False"
      ]
     },
     "execution_count": 26,
     "metadata": {},
     "output_type": "execute_result"
    }
   ],
   "source": [
    "10 > 20"
   ]
  },
  {
   "cell_type": "code",
   "execution_count": 27,
   "id": "3bb7df02",
   "metadata": {
    "ExecuteTime": {
     "end_time": "2023-01-02T06:15:07.674739Z",
     "start_time": "2023-01-02T06:15:07.658999Z"
    }
   },
   "outputs": [
    {
     "data": {
      "text/plain": [
       "False"
      ]
     },
     "execution_count": 27,
     "metadata": {},
     "output_type": "execute_result"
    }
   ],
   "source": [
    "10 != 10"
   ]
  },
  {
   "cell_type": "markdown",
   "id": "c90733b9",
   "metadata": {},
   "source": [
    "### 논리 연산자"
   ]
  },
  {
   "cell_type": "code",
   "execution_count": 28,
   "id": "62e78424",
   "metadata": {
    "ExecuteTime": {
     "end_time": "2023-01-02T06:15:31.233031Z",
     "start_time": "2023-01-02T06:15:31.219663Z"
    }
   },
   "outputs": [
    {
     "data": {
      "text/plain": [
       "True"
      ]
     },
     "execution_count": 28,
     "metadata": {},
     "output_type": "execute_result"
    }
   ],
   "source": [
    "a = 10\n",
    "b = 60\n",
    "a < 50 and b > 50"
   ]
  },
  {
   "cell_type": "markdown",
   "id": "bcad9056",
   "metadata": {},
   "source": [
    "### 문자열 연산자"
   ]
  },
  {
   "cell_type": "code",
   "execution_count": 29,
   "id": "fe3f3a34",
   "metadata": {
    "ExecuteTime": {
     "end_time": "2023-01-02T06:15:48.025245Z",
     "start_time": "2023-01-02T06:15:47.996232Z"
    }
   },
   "outputs": [
    {
     "data": {
      "text/plain": [
       "'aaabbb'"
      ]
     },
     "execution_count": 29,
     "metadata": {},
     "output_type": "execute_result"
    }
   ],
   "source": [
    "'aaa' + 'bbb'"
   ]
  },
  {
   "cell_type": "code",
   "execution_count": 30,
   "id": "ccbd32d9",
   "metadata": {
    "ExecuteTime": {
     "end_time": "2023-01-02T06:15:56.004729Z",
     "start_time": "2023-01-02T06:15:55.965417Z"
    }
   },
   "outputs": [
    {
     "data": {
      "text/plain": [
       "'aaaaaaaaaaaaaaa'"
      ]
     },
     "execution_count": 30,
     "metadata": {},
     "output_type": "execute_result"
    }
   ],
   "source": [
    "'aaa' * 5"
   ]
  },
  {
   "cell_type": "code",
   "execution_count": 31,
   "id": "03ec79ec",
   "metadata": {
    "ExecuteTime": {
     "end_time": "2023-01-02T06:16:55.697073Z",
     "start_time": "2023-01-02T06:16:55.687391Z"
    }
   },
   "outputs": [
    {
     "name": "stdout",
     "output_type": "stream",
     "text": [
      "==================================================\n",
      "python\n",
      "==================================================\n"
     ]
    }
   ],
   "source": [
    "print('=' * 50)\n",
    "print('python')\n",
    "print('=' * 50)"
   ]
  },
  {
   "cell_type": "markdown",
   "id": "677fc311",
   "metadata": {},
   "source": [
    "## 표준 입출력"
   ]
  },
  {
   "cell_type": "markdown",
   "id": "47aa4a84",
   "metadata": {},
   "source": [
    "### 표준 입력"
   ]
  },
  {
   "cell_type": "markdown",
   "id": "23c134fd",
   "metadata": {},
   "source": [
    "- input( ) 함수"
   ]
  },
  {
   "cell_type": "code",
   "execution_count": 35,
   "id": "f685a47c",
   "metadata": {
    "ExecuteTime": {
     "end_time": "2023-01-02T06:17:17.616165Z",
     "start_time": "2023-01-02T06:17:11.613165Z"
    },
    "scrolled": true
   },
   "outputs": [
    {
     "name": "stdout",
     "output_type": "stream",
     "text": [
      "이름 입력:이태훈\n"
     ]
    },
    {
     "data": {
      "text/plain": [
       "'이태훈'"
      ]
     },
     "execution_count": 35,
     "metadata": {},
     "output_type": "execute_result"
    }
   ],
   "source": [
    "input('이름 입력:')"
   ]
  },
  {
   "cell_type": "code",
   "execution_count": 36,
   "id": "3c0cf72a",
   "metadata": {
    "ExecuteTime": {
     "end_time": "2023-01-02T06:17:40.544237Z",
     "start_time": "2023-01-02T06:17:37.237213Z"
    }
   },
   "outputs": [
    {
     "name": "stdout",
     "output_type": "stream",
     "text": [
      "이름 입력:이태훈\n"
     ]
    }
   ],
   "source": [
    "a = input('이름 입력:')"
   ]
  },
  {
   "cell_type": "code",
   "execution_count": 37,
   "id": "63632b2e",
   "metadata": {
    "ExecuteTime": {
     "end_time": "2023-01-02T06:17:45.760309Z",
     "start_time": "2023-01-02T06:17:45.749439Z"
    }
   },
   "outputs": [
    {
     "data": {
      "text/plain": [
       "'이태훈'"
      ]
     },
     "execution_count": 37,
     "metadata": {},
     "output_type": "execute_result"
    }
   ],
   "source": [
    "a"
   ]
  },
  {
   "cell_type": "code",
   "execution_count": 38,
   "id": "6d12eec1",
   "metadata": {
    "ExecuteTime": {
     "end_time": "2023-01-02T06:18:05.658907Z",
     "start_time": "2023-01-02T06:18:05.649343Z"
    }
   },
   "outputs": [
    {
     "name": "stdout",
     "output_type": "stream",
     "text": [
      "이태훈\n"
     ]
    }
   ],
   "source": [
    "print(a)"
   ]
  },
  {
   "cell_type": "markdown",
   "id": "4cbb3a1b",
   "metadata": {},
   "source": [
    "### 표준 출력"
   ]
  },
  {
   "cell_type": "markdown",
   "id": "8f8e7c18",
   "metadata": {},
   "source": [
    "- print( ) 함수"
   ]
  },
  {
   "cell_type": "code",
   "execution_count": 1,
   "id": "955f0dbd",
   "metadata": {
    "ExecuteTime": {
     "end_time": "2023-01-02T06:18:12.524415Z",
     "start_time": "2023-01-02T06:18:12.516206Z"
    }
   },
   "outputs": [
    {
     "name": "stdout",
     "output_type": "stream",
     "text": [
      "aaa\n"
     ]
    }
   ],
   "source": [
    "print('aaa')"
   ]
  },
  {
   "cell_type": "code",
   "execution_count": 2,
   "id": "4bc268a3",
   "metadata": {
    "ExecuteTime": {
     "end_time": "2023-01-02T06:18:26.830046Z",
     "start_time": "2023-01-02T06:18:26.817534Z"
    }
   },
   "outputs": [
    {
     "name": "stdout",
     "output_type": "stream",
     "text": [
      "aaa bbb\n"
     ]
    }
   ],
   "source": [
    "a = 'aaa'\n",
    "b = 'bbb'\n",
    "print(a, b)"
   ]
  },
  {
   "cell_type": "code",
   "execution_count": 5,
   "id": "c1260117",
   "metadata": {
    "ExecuteTime": {
     "end_time": "2023-01-02T06:20:14.854899Z",
     "start_time": "2023-01-02T06:20:14.843255Z"
    }
   },
   "outputs": [
    {
     "name": "stdout",
     "output_type": "stream",
     "text": [
      "a 변수에 들어 있는 값은 aaa\n"
     ]
    }
   ],
   "source": [
    "print('a 변수에 들어 있는 값은 %s' % a) #% : 형식지정자, %s : 문자열"
   ]
  },
  {
   "cell_type": "code",
   "execution_count": 42,
   "id": "06f0a4de",
   "metadata": {
    "ExecuteTime": {
     "end_time": "2023-01-02T06:21:16.295581Z",
     "start_time": "2023-01-02T06:21:16.267879Z"
    }
   },
   "outputs": [
    {
     "name": "stdout",
     "output_type": "stream",
     "text": [
      "3 * 5 = 15\n"
     ]
    }
   ],
   "source": [
    "a = 3\n",
    "b = 5\n",
    "print('{0} * {1} = {2}'.format(a, b, a*b))"
   ]
  },
  {
   "cell_type": "code",
   "execution_count": 43,
   "id": "de5d3205",
   "metadata": {
    "ExecuteTime": {
     "end_time": "2023-01-02T06:22:04.159658Z",
     "start_time": "2023-01-02T06:22:04.147277Z"
    }
   },
   "outputs": [
    {
     "name": "stdout",
     "output_type": "stream",
     "text": [
      "3 - 5 = -2\n"
     ]
    }
   ],
   "source": [
    "print(f'{a} - {b} = {a-b}')"
   ]
  },
  {
   "cell_type": "markdown",
   "id": "ee632d73",
   "metadata": {},
   "source": [
    "format() 함수를 사용하지 않고 f-string을 사용하는 것이 더 간단하다."
   ]
  }
 ],
 "metadata": {
  "kernelspec": {
   "display_name": "Python 3",
   "language": "python",
   "name": "python3"
  },
  "language_info": {
   "codemirror_mode": {
    "name": "ipython",
    "version": 3
   },
   "file_extension": ".py",
   "mimetype": "text/x-python",
   "name": "python",
   "nbconvert_exporter": "python",
   "pygments_lexer": "ipython3",
   "version": "3.8.8"
  },
  "toc": {
   "base_numbering": 1,
   "nav_menu": {},
   "number_sections": true,
   "sideBar": true,
   "skip_h1_title": false,
   "title_cell": "Table of Contents",
   "title_sidebar": "Contents",
   "toc_cell": false,
   "toc_position": {
    "height": "calc(100% - 180px)",
    "left": "10px",
    "top": "150px",
    "width": "165px"
   },
   "toc_section_display": true,
   "toc_window_display": false
  }
 },
 "nbformat": 4,
 "nbformat_minor": 5
}
